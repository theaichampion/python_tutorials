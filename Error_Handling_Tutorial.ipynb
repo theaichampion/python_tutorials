{
  "cells": [
    {
      "cell_type": "markdown",
      "metadata": {
        "id": "view-in-github",
        "colab_type": "text"
      },
      "source": [
        "<a href=\"https://colab.research.google.com/github/theaichampion/python_tutorials/blob/new_branch-test/Error_Handling_Tutorial.ipynb\" target=\"_parent\"><img src=\"https://colab.research.google.com/assets/colab-badge.svg\" alt=\"Open In Colab\"/></a>"
      ]
    },
    {
      "cell_type": "markdown",
      "id": "21087670",
      "metadata": {
        "id": "21087670"
      },
      "source": [
        "# 🛠️ Python Error Handling - Tutorial Notebook"
      ]
    },
    {
      "cell_type": "markdown",
      "id": "4ed67a75",
      "metadata": {
        "id": "4ed67a75"
      },
      "source": [
        "\n",
        "Welcome to the **Error Handling in Python** notebook!  \n",
        "This notebook will help you learn how to write robust code by handling exceptions and errors properly.\n"
      ]
    },
    {
      "cell_type": "markdown",
      "id": "86bcd26c",
      "metadata": {
        "id": "86bcd26c"
      },
      "source": [
        "## 1. What is Error Handling?"
      ]
    },
    {
      "cell_type": "markdown",
      "id": "11f3209b",
      "metadata": {
        "id": "11f3209b"
      },
      "source": [
        "\n",
        "Error handling allows your program to **gracefully respond** to unexpected situations (like division by zero or file not found) without crashing.\n",
        "\n",
        "Python uses `try`, `except`, `else`, and `finally` blocks to handle exceptions.\n"
      ]
    },
    {
      "cell_type": "markdown",
      "id": "b67086a5",
      "metadata": {
        "id": "b67086a5"
      },
      "source": [
        "## 2. Basic Try-Except"
      ]
    },
    {
      "cell_type": "code",
      "execution_count": null,
      "id": "5cfb5613",
      "metadata": {
        "colab": {
          "base_uri": "https://localhost:8080/"
        },
        "id": "5cfb5613",
        "outputId": "01899c3d-d416-4052-ca49-d27db9967c5b"
      },
      "outputs": [
        {
          "output_type": "stream",
          "name": "stdout",
          "text": [
            "You can't divide by zero!\n",
            "Bye\n"
          ]
        }
      ],
      "source": [
        "\n",
        "try:\n",
        "    x = 5 / 0\n",
        "except ZeroDivisionError:\n",
        "    print(\"You can't divide by zero!\")\n",
        "print(\"Bye\")"
      ]
    },
    {
      "cell_type": "code",
      "source": [
        "# x = 5 / 0\n",
        "# print(\"Bye\")"
      ],
      "metadata": {
        "id": "t7SOLU5c3zo2"
      },
      "id": "t7SOLU5c3zo2",
      "execution_count": null,
      "outputs": []
    },
    {
      "cell_type": "markdown",
      "id": "056127f6",
      "metadata": {
        "id": "056127f6"
      },
      "source": [
        "📝 **Practice:** Modify the code below to catch a `NameError`."
      ]
    },
    {
      "cell_type": "code",
      "execution_count": null,
      "id": "67b00949",
      "metadata": {
        "colab": {
          "base_uri": "https://localhost:8080/"
        },
        "id": "67b00949",
        "outputId": "20c182c2-0959-497a-8b24-9fb0ac2da4aa"
      },
      "outputs": [
        {
          "output_type": "stream",
          "name": "stdout",
          "text": [
            "Variable is not defined!\n"
          ]
        }
      ],
      "source": [
        "\n",
        "# Your code here\n",
        "try:\n",
        "    print(undefined_variable)\n",
        "except NameError:\n",
        "    print(\"Variable is not defined!\")\n"
      ]
    },
    {
      "cell_type": "markdown",
      "id": "4a9174fb",
      "metadata": {
        "id": "4a9174fb"
      },
      "source": [
        "## 3. Handling Multiple Exceptions"
      ]
    },
    {
      "cell_type": "code",
      "execution_count": null,
      "id": "94deb082",
      "metadata": {
        "colab": {
          "base_uri": "https://localhost:8080/"
        },
        "id": "94deb082",
        "outputId": "1e4d96cf-cf38-4180-822c-5d3588460793"
      },
      "outputs": [
        {
          "output_type": "stream",
          "name": "stdout",
          "text": [
            "Could not convert string to integer.\n"
          ]
        }
      ],
      "source": [
        "\n",
        "try:\n",
        "   value = int(\"abc\")    # Value error\n",
        "   # value = \"abc\"+10    # Type error\n",
        "   # value = init(\"abc\") # Name error\n",
        "except ValueError:\n",
        "    print(\"Could not convert string to integer.\")\n",
        "except TypeError:\n",
        "    print(\"Wrong type used.\")\n"
      ]
    },
    {
      "cell_type": "markdown",
      "id": "eacc4bdf",
      "metadata": {
        "id": "eacc4bdf"
      },
      "source": [
        "## 4. Using `else` and `finally`"
      ]
    },
    {
      "cell_type": "code",
      "execution_count": null,
      "id": "02e800ea",
      "metadata": {
        "colab": {
          "base_uri": "https://localhost:8080/"
        },
        "id": "02e800ea",
        "outputId": "f03f147f-eb60-4af5-c610-6c8a0c24fa21"
      },
      "outputs": [
        {
          "output_type": "stream",
          "name": "stdout",
          "text": [
            "Conversion successful: 42\n",
            "This runs no matter what. Visit us again!\n"
          ]
        }
      ],
      "source": [
        "\n",
        "try:\n",
        "    num = int(\"42\")\n",
        "except ValueError:\n",
        "    print(\"Conversion error.\")\n",
        "except NameError:\n",
        "    print(\"Name Error error.\")\n",
        "else:\n",
        "    print(\"Conversion successful:\", num)\n",
        "finally:\n",
        "    print(\"This runs no matter what. Visit us again!\")\n"
      ]
    },
    {
      "cell_type": "markdown",
      "id": "68d6563a",
      "metadata": {
        "id": "68d6563a"
      },
      "source": [
        "## 5. Custom Exceptions"
      ]
    },
    {
      "cell_type": "code",
      "execution_count": null,
      "id": "85e97225",
      "metadata": {
        "colab": {
          "base_uri": "https://localhost:8080/"
        },
        "id": "85e97225",
        "outputId": "9db27e9b-abb2-455b-ec9c-6cb94dc8657d"
      },
      "outputs": [
        {
          "output_type": "stream",
          "name": "stdout",
          "text": [
            "Caught custom exception: Negative value not allowed!\n"
          ]
        }
      ],
      "source": [
        "\n",
        "class MyCustomError(Exception): # Inheritance\n",
        "\n",
        "    pass\n",
        "\n",
        "def check_neg_value(x):\n",
        "    if x < 0:\n",
        "        raise MyCustomError(\"Negative value not allowed!\")\n",
        "\n",
        "def check_value(x):\n",
        "    if x == \"0\":\n",
        "        raise MyCustomError(\"Negative value not allowed!\")\n",
        "try:\n",
        "    check_neg_value(-10)\n",
        "except MyCustomError as e:\n",
        "    print(\"Caught custom exception:\", e)\n"
      ]
    },
    {
      "cell_type": "code",
      "source": [
        "def check_value(x):\n",
        "    if x == 0:\n",
        "        raise MyCustomError(\"Zero value not allowed!\")\n",
        "try:\n",
        "    check_value(0)\n",
        "except MyCustomError as e:\n",
        "    print(\"Caught custom exception:\", e)"
      ],
      "metadata": {
        "colab": {
          "base_uri": "https://localhost:8080/"
        },
        "id": "SCJ8C-b49fOj",
        "outputId": "e8391fed-23d1-4e0d-8de7-281e2262904e"
      },
      "id": "SCJ8C-b49fOj",
      "execution_count": null,
      "outputs": [
        {
          "output_type": "stream",
          "name": "stdout",
          "text": [
            "Caught custom exception: Zero value not allowed!\n"
          ]
        }
      ]
    },
    {
      "cell_type": "markdown",
      "id": "7d3933a3",
      "metadata": {
        "id": "7d3933a3"
      },
      "source": [
        "## 🧠 Quiz Time!"
      ]
    },
    {
      "cell_type": "markdown",
      "id": "62eeadb1",
      "metadata": {
        "id": "62eeadb1"
      },
      "source": [
        "\n",
        "### Q1. What will happen?\n",
        "```python\n",
        "try:\n",
        "    result = 10 / 0\n",
        "except ValueError:\n",
        "    print(\"Value Error\")\n",
        "```\n",
        "- A) Program crashes  \n",
        "- B) \"Value Error\" is printed  \n",
        "- C) Nothing happens  \n",
        "- D) None of the above  \n"
      ]
    },
    {
      "cell_type": "code",
      "source": [
        "try:\n",
        "    result = 10 / 0\n",
        "except ValueError:\n",
        "    print(\"Value Error\")"
      ],
      "metadata": {
        "colab": {
          "base_uri": "https://localhost:8080/",
          "height": 193
        },
        "id": "pSpleWkp-Q64",
        "outputId": "859928fb-aab6-4125-bf80-bdd5b099b875"
      },
      "id": "pSpleWkp-Q64",
      "execution_count": null,
      "outputs": [
        {
          "output_type": "error",
          "ename": "ZeroDivisionError",
          "evalue": "division by zero",
          "traceback": [
            "\u001b[0;31m---------------------------------------------------------------------------\u001b[0m",
            "\u001b[0;31mZeroDivisionError\u001b[0m                         Traceback (most recent call last)",
            "\u001b[0;32m/tmp/ipython-input-33-512287231.py\u001b[0m in \u001b[0;36m<cell line: 0>\u001b[0;34m()\u001b[0m\n\u001b[1;32m      1\u001b[0m \u001b[0;32mtry\u001b[0m\u001b[0;34m:\u001b[0m\u001b[0;34m\u001b[0m\u001b[0;34m\u001b[0m\u001b[0m\n\u001b[0;32m----> 2\u001b[0;31m     \u001b[0mresult\u001b[0m \u001b[0;34m=\u001b[0m \u001b[0;36m10\u001b[0m \u001b[0;34m/\u001b[0m \u001b[0;36m0\u001b[0m\u001b[0;34m\u001b[0m\u001b[0;34m\u001b[0m\u001b[0m\n\u001b[0m\u001b[1;32m      3\u001b[0m \u001b[0;32mexcept\u001b[0m \u001b[0mValueError\u001b[0m\u001b[0;34m:\u001b[0m\u001b[0;34m\u001b[0m\u001b[0;34m\u001b[0m\u001b[0m\n\u001b[1;32m      4\u001b[0m     \u001b[0mprint\u001b[0m\u001b[0;34m(\u001b[0m\u001b[0;34m\"Value Error\"\u001b[0m\u001b[0;34m)\u001b[0m\u001b[0;34m\u001b[0m\u001b[0;34m\u001b[0m\u001b[0m\n",
            "\u001b[0;31mZeroDivisionError\u001b[0m: division by zero"
          ]
        }
      ]
    },
    {
      "cell_type": "markdown",
      "id": "d4ba132f",
      "metadata": {
        "id": "d4ba132f"
      },
      "source": [
        "\n",
        "### Q2. Complete the code to handle FileNotFoundError:\n",
        "```python\n",
        "try:\n",
        "    with open(\"missing.txt\") as f:\n",
        "        data = f.read()\n",
        "except ___________:\n",
        "    print(\"File not found.\")\n",
        "```\n"
      ]
    },
    {
      "cell_type": "code",
      "source": [
        "try:\n",
        "    with open(\"missing.txt\") as f:\n",
        "        data = f.read()\n",
        "except FileNotFoundError:\n",
        "    print(\"File not found.\")"
      ],
      "metadata": {
        "colab": {
          "base_uri": "https://localhost:8080/"
        },
        "id": "e0mm14Rq-fqO",
        "outputId": "0e91f928-f3e7-44fa-89ea-05ff16328a5d"
      },
      "id": "e0mm14Rq-fqO",
      "execution_count": null,
      "outputs": [
        {
          "output_type": "stream",
          "name": "stdout",
          "text": [
            "File not found.\n"
          ]
        }
      ]
    },
    {
      "cell_type": "markdown",
      "id": "db2844e5",
      "metadata": {
        "id": "db2844e5"
      },
      "source": [
        "## 🏠 Homework"
      ]
    },
    {
      "cell_type": "code",
      "source": [],
      "metadata": {
        "id": "bakzTnFvJ7Yu"
      },
      "id": "bakzTnFvJ7Yu",
      "execution_count": null,
      "outputs": []
    },
    {
      "cell_type": "markdown",
      "source": [],
      "metadata": {
        "id": "jGMaK8y3J9B_"
      },
      "id": "jGMaK8y3J9B_"
    },
    {
      "cell_type": "markdown",
      "id": "77c2237b",
      "metadata": {
        "id": "77c2237b"
      },
      "source": [
        "\n",
        "1. Write a function `safe_divide(a, b)` that returns `a / b`, and catches `ZeroDivisionError` and returns a helpful message.\n",
        "2. Create a custom exception `InvalidAgeError` and raise it when the user enters an age < 0.\n"
      ]
    },
    {
      "cell_type": "code",
      "source": [
        "#safe_divide homework\n",
        "\n",
        "def safe_divide(a, b):\n",
        "  try:\n",
        "    return a/b\n",
        "  except ZeroDivisionError:\n",
        "    print(\"You can't divide by zero!\")\n",
        "\n",
        "\n",
        "print(safe_divide(10, 0))"
      ],
      "metadata": {
        "colab": {
          "base_uri": "https://localhost:8080/"
        },
        "id": "tOP57tk3JyOi",
        "outputId": "759c2df0-b867-4478-d4c4-9aa1bdf90975"
      },
      "id": "tOP57tk3JyOi",
      "execution_count": null,
      "outputs": [
        {
          "output_type": "stream",
          "name": "stdout",
          "text": [
            "You can't divide by zero!\n",
            "None\n"
          ]
        }
      ]
    },
    {
      "cell_type": "code",
      "source": [
        "#custom exception InvalidAgeError\n",
        "\n",
        "class MyCustomError(Exception): # Inheritance\n",
        "      pass\n",
        "\n",
        "def check_neg_value(x):\n",
        "    if x < 0:\n",
        "        raise MyCustomError(\"InvalidAgeError\")\n",
        "    return print('your age is', x)\n",
        "\n",
        "\n",
        "print(check_neg_value(-1))"
      ],
      "metadata": {
        "colab": {
          "base_uri": "https://localhost:8080/",
          "height": 305
        },
        "id": "-V8GGRz9LmJJ",
        "outputId": "0a77b0a2-f1be-4516-a1de-6564ccf71e6e"
      },
      "id": "-V8GGRz9LmJJ",
      "execution_count": null,
      "outputs": [
        {
          "output_type": "error",
          "ename": "MyCustomError",
          "evalue": "InvalidAgeError",
          "traceback": [
            "\u001b[0;31m---------------------------------------------------------------------------\u001b[0m",
            "\u001b[0;31mMyCustomError\u001b[0m                             Traceback (most recent call last)",
            "\u001b[0;32m/tmp/ipython-input-10-798912579.py\u001b[0m in \u001b[0;36m<cell line: 0>\u001b[0;34m()\u001b[0m\n\u001b[1;32m     10\u001b[0m \u001b[0;34m\u001b[0m\u001b[0m\n\u001b[1;32m     11\u001b[0m \u001b[0;34m\u001b[0m\u001b[0m\n\u001b[0;32m---> 12\u001b[0;31m \u001b[0mprint\u001b[0m\u001b[0;34m(\u001b[0m\u001b[0mcheck_neg_value\u001b[0m\u001b[0;34m(\u001b[0m\u001b[0;34m-\u001b[0m\u001b[0;36m1\u001b[0m\u001b[0;34m)\u001b[0m\u001b[0;34m)\u001b[0m\u001b[0;34m\u001b[0m\u001b[0;34m\u001b[0m\u001b[0m\n\u001b[0m",
            "\u001b[0;32m/tmp/ipython-input-10-798912579.py\u001b[0m in \u001b[0;36mcheck_neg_value\u001b[0;34m(x)\u001b[0m\n\u001b[1;32m      6\u001b[0m \u001b[0;32mdef\u001b[0m \u001b[0mcheck_neg_value\u001b[0m\u001b[0;34m(\u001b[0m\u001b[0mx\u001b[0m\u001b[0;34m)\u001b[0m\u001b[0;34m:\u001b[0m\u001b[0;34m\u001b[0m\u001b[0;34m\u001b[0m\u001b[0m\n\u001b[1;32m      7\u001b[0m     \u001b[0;32mif\u001b[0m \u001b[0mx\u001b[0m \u001b[0;34m<\u001b[0m \u001b[0;36m0\u001b[0m\u001b[0;34m:\u001b[0m\u001b[0;34m\u001b[0m\u001b[0;34m\u001b[0m\u001b[0m\n\u001b[0;32m----> 8\u001b[0;31m         \u001b[0;32mraise\u001b[0m \u001b[0mMyCustomError\u001b[0m\u001b[0;34m(\u001b[0m\u001b[0;34m\"InvalidAgeError\"\u001b[0m\u001b[0;34m)\u001b[0m\u001b[0;34m\u001b[0m\u001b[0;34m\u001b[0m\u001b[0m\n\u001b[0m\u001b[1;32m      9\u001b[0m     \u001b[0;32mreturn\u001b[0m \u001b[0mprint\u001b[0m\u001b[0;34m(\u001b[0m\u001b[0;34m'your age is'\u001b[0m\u001b[0;34m,\u001b[0m \u001b[0mx\u001b[0m\u001b[0;34m)\u001b[0m\u001b[0;34m\u001b[0m\u001b[0;34m\u001b[0m\u001b[0m\n\u001b[1;32m     10\u001b[0m \u001b[0;34m\u001b[0m\u001b[0m\n",
            "\u001b[0;31mMyCustomError\u001b[0m: InvalidAgeError"
          ]
        }
      ]
    }
  ],
  "metadata": {
    "colab": {
      "provenance": [],
      "include_colab_link": true
    },
    "language_info": {
      "name": "python"
    },
    "kernelspec": {
      "name": "python3",
      "display_name": "Python 3"
    }
  },
  "nbformat": 4,
  "nbformat_minor": 5
}