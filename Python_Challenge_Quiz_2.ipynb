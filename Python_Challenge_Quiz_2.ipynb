{
  "cells": [
    {
      "cell_type": "markdown",
      "metadata": {
        "id": "view-in-github",
        "colab_type": "text"
      },
      "source": [
        "<a href=\"https://colab.research.google.com/github/theaichampion/python_tutorials/blob/main/Python_Challenge_Quiz_2.ipynb\" target=\"_parent\"><img src=\"https://colab.research.google.com/assets/colab-badge.svg\" alt=\"Open In Colab\"/></a>"
      ]
    },
    {
      "cell_type": "markdown",
      "id": "fa546bfc",
      "metadata": {
        "id": "fa546bfc"
      },
      "source": [
        "# 🧠 Python Challenge Quiz\n",
        "This challenge-style quiz will test your ability to write Python code covering:\n",
        "- Variables, Data Types\n",
        "- Conditionals and Loops\n",
        "- Functions and Scope\n",
        "- Lists, Dictionaries, Tuples, Sets\n",
        "\n",
        "✅ **Instructions:**\n",
        "- Complete each task below in the code cell.\n",
        "- Use test cases to verify your logic.\n",
        "- You may use built-in functions but not external libraries."
      ]
    },
    {
      "cell_type": "markdown",
      "id": "2c8ac727",
      "metadata": {
        "id": "2c8ac727"
      },
      "source": [
        "## 1. Syntax, Variables, and Data Types"
      ]
    },
    {
      "cell_type": "markdown",
      "id": "8cf5d859",
      "metadata": {
        "id": "8cf5d859"
      },
      "source": [
        "**Q1.1** Create a function `evaluate_expression(a, b, op)` that takes two numbers and a string operator (`'+', '-', '*', '/'`) and returns the result.\n",
        "\n",
        "**Test cases:**\n",
        "```python\n",
        "evaluate_expression(10, 2, '*') ➞ 20\n",
        "evaluate_expression(8, 4, '+') ➞ 12\n",
        "```"
      ]
    },
    {
      "cell_type": "code",
      "execution_count": null,
      "id": "a3a365bc",
      "metadata": {
        "colab": {
          "base_uri": "https://localhost:8080/"
        },
        "id": "a3a365bc",
        "outputId": "241fdd1d-9f42-4988-9699-71a5947d25e3"
      },
      "outputs": [
        {
          "output_type": "execute_result",
          "data": {
            "text/plain": [
              "12"
            ]
          },
          "metadata": {},
          "execution_count": 5
        }
      ],
      "source": [
        "# Your code here\n",
        "def evaluate_expression(a,b,op):\n",
        "  if op == \"+\":\n",
        "    return(a+b)\n",
        "  elif op == \"-\":\n",
        "    return (a-b)\n",
        "  elif op == \"*\":\n",
        "    return (a*b)\n",
        "  elif op == (\"/\"):\n",
        "    return(a/b)\n",
        "\n",
        "\n",
        "evaluate_expression(10, 2, '*')\n",
        "evaluate_expression(8, 4, '+')"
      ]
    },
    {
      "cell_type": "markdown",
      "id": "bd1123a1",
      "metadata": {
        "id": "bd1123a1"
      },
      "source": [
        "## 2. Conditionals and Loops"
      ]
    },
    {
      "cell_type": "markdown",
      "id": "e3067ba4",
      "metadata": {
        "id": "e3067ba4"
      },
      "source": [
        "**Q2.1** Write a function `fizz_buzz(n)` that prints numbers from 1 to `n`. For multiples of 3, print `'Fizz'`; for multiples of 5, print `'Buzz'`; for both, print `'FizzBuzz'`.\n",
        "\n",
        "**Test case:**\n",
        "```python\n",
        "fizz_buzz(15)\n",
        "# Expected: 1, 2, Fizz, 4, Buzz, Fizz, ..., FizzBuzz\n",
        "```"
      ]
    },
    {
      "cell_type": "code",
      "execution_count": null,
      "id": "efd5a460",
      "metadata": {
        "colab": {
          "base_uri": "https://localhost:8080/"
        },
        "id": "efd5a460",
        "outputId": "419bfc55-2b68-4b4d-e585-221f23861e1e"
      },
      "outputs": [
        {
          "output_type": "stream",
          "name": "stdout",
          "text": [
            "3 Fizz\n",
            "5 Buzz\n",
            "6 Fizz\n",
            "9 Fizz\n",
            "10 Buzz\n",
            "12 Fizz\n"
          ]
        }
      ],
      "source": [
        "# Your code here\n",
        "def fizz_buzz(x):\n",
        "  for i in range(1, x):\n",
        "    if i % 3 ==0 and i % 5 == 0:\n",
        "      print(i, 'FizzBuzz')\n",
        "    if i % 3 == 0:\n",
        "      print(i, 'Fizz')\n",
        "    elif i % 5 == 0:\n",
        "      print(i, 'Buzz')\n",
        "\n",
        "\n",
        "fizz_buzz(15)"
      ]
    },
    {
      "cell_type": "markdown",
      "id": "96725a98",
      "metadata": {
        "id": "96725a98"
      },
      "source": [
        "**Q2.2** Write a function `count_digits_while(n)` that counts how many digits are in an integer using a `while` loop.\n",
        "\n",
        "**Test cases:**\n",
        "```python\n",
        "count_digits_while(1234) ➞ 4\n",
        "count_digits_while(9) ➞ 1\n",
        "```"
      ]
    },
    {
      "cell_type": "code",
      "execution_count": null,
      "id": "37c5c749",
      "metadata": {
        "colab": {
          "base_uri": "https://localhost:8080/"
        },
        "id": "37c5c749",
        "outputId": "ec1fe359-8a38-4812-c1d7-d87df1f33861"
      },
      "outputs": [
        {
          "output_type": "execute_result",
          "data": {
            "text/plain": [
              "4"
            ]
          },
          "metadata": {},
          "execution_count": 3
        }
      ],
      "source": [
        "# Your code here\n",
        "def count_digits_while(n):\n",
        "  count = 0\n",
        "\n",
        "  while n > 1:\n",
        "    n = n/10\n",
        "    count += 1\n",
        "  return count\n",
        "\n",
        "\"\"\"abs_n = abs(n)\n",
        "  if type(abs_n) == float:\n",
        "    n_strg = str(abs_n)\n",
        "    n_strgfind = n_strg.find(\".\")\n",
        "    return(n_strgfind)\n",
        "  else:\n",
        "    n_strg = str(abs_n)\n",
        "    return len(n_strg)\"\"\"\n",
        " #count = 0\n",
        "\n",
        "\n",
        "\n",
        "count_digits_while(1234.5)"
      ]
    },
    {
      "cell_type": "markdown",
      "id": "3b4a0552",
      "metadata": {
        "id": "3b4a0552"
      },
      "source": [
        "## 3. Functions and Scope"
      ]
    },
    {
      "cell_type": "markdown",
      "id": "90756edc",
      "metadata": {
        "id": "90756edc"
      },
      "source": [
        "**Q3.1** Define a function `is_palindrome(word)` that returns `True` if `word` is a palindrome.\n",
        "\n",
        "**Test cases:**\n",
        "```python\n",
        "is_palindrome('level') ➞ True\n",
        "is_palindrome('python') ➞ False\n",
        "```"
      ]
    },
    {
      "cell_type": "code",
      "execution_count": null,
      "id": "916064f0",
      "metadata": {
        "colab": {
          "base_uri": "https://localhost:8080/"
        },
        "id": "916064f0",
        "outputId": "ed30e7b6-7711-4c08-d31e-756de33b433f"
      },
      "outputs": [
        {
          "output_type": "execute_result",
          "data": {
            "text/plain": [
              "True"
            ]
          },
          "metadata": {},
          "execution_count": 14
        }
      ],
      "source": [
        "# Your code here\n",
        "def is_palindrome(word):\n",
        "  rev_sentence=word[::-1]\n",
        "  if word == rev_sentence:\n",
        "    return True\n",
        "  else:\n",
        "    return False\n",
        "\n",
        "is_palindrome('level')"
      ]
    },
    {
      "cell_type": "markdown",
      "id": "a48a2fd6",
      "metadata": {
        "id": "a48a2fd6"
      },
      "source": [
        "**Q3.2** Write a function `factorial(n)` that returns the factorial of `n` using recursion.\n",
        "\n",
        "**Test cases:**\n",
        "```python\n",
        "factorial(5) ➞ 120\n",
        "factorial(0) ➞ 1\n",
        "```"
      ]
    },
    {
      "cell_type": "code",
      "execution_count": null,
      "id": "1b2f68ec",
      "metadata": {
        "colab": {
          "base_uri": "https://localhost:8080/"
        },
        "id": "1b2f68ec",
        "outputId": "ca000ea8-7435-4090-f3cc-b430323363d2"
      },
      "outputs": [
        {
          "output_type": "execute_result",
          "data": {
            "text/plain": [
              "120"
            ]
          },
          "metadata": {},
          "execution_count": 16
        }
      ],
      "source": [
        "# Your code here\n",
        "def factorial(n):\n",
        "  result = 1\n",
        "  for i in range(1, n + 1):\n",
        "    result *= i\n",
        "  return result\n",
        "\n",
        "factorial(5)\n",
        "\n"
      ]
    },
    {
      "cell_type": "markdown",
      "id": "b9b3c682",
      "metadata": {
        "id": "b9b3c682"
      },
      "source": [
        "## 4. Lists, Dictionaries, Tuples, and Sets"
      ]
    },
    {
      "cell_type": "markdown",
      "id": "6d602d1f",
      "metadata": {
        "id": "6d602d1f"
      },
      "source": [
        "**Q4.1** Write a function `reverse_list(lst)` that returns a new list with elements in reverse order.\n",
        "\n",
        "**Test case:**\n",
        "```python\n",
        "reverse_list([1, 2, 3, 4]) ➞ [4, 3, 2, 1]\n",
        "```"
      ]
    },
    {
      "cell_type": "code",
      "execution_count": null,
      "id": "6bbe82e9",
      "metadata": {
        "id": "6bbe82e9",
        "colab": {
          "base_uri": "https://localhost:8080/"
        },
        "outputId": "521a6ffa-4618-49ff-a75f-90e1bf41fc24"
      },
      "outputs": [
        {
          "output_type": "stream",
          "name": "stdout",
          "text": [
            "[4, 3, 2, 1]\n"
          ]
        }
      ],
      "source": [
        "# Your code here\n",
        "def reverse_list(lst):\n",
        "  #return lst[::-1]\n",
        "  lst.reverse()\n",
        "  return lst\n",
        "\n",
        "\n",
        "print(reverse_list([1, 2, 3, 4]))\n"
      ]
    },
    {
      "cell_type": "markdown",
      "id": "b69dc432",
      "metadata": {
        "id": "b69dc432"
      },
      "source": [
        "**Q4.2** Write a function `merge_dicts(d1, d2)` that merges two dictionaries. If keys overlap, values from `d2` should overwrite.\n",
        "\n",
        "**Test case:**\n",
        "```python\n",
        "merge_dicts({'a': 1}, {'a': 3, 'b': 2}) ➞ {'a': 3, 'b': 2}\n",
        "```"
      ]
    },
    {
      "cell_type": "code",
      "execution_count": null,
      "id": "13d74b4b",
      "metadata": {
        "id": "13d74b4b",
        "colab": {
          "base_uri": "https://localhost:8080/"
        },
        "outputId": "2db03f2f-fdc0-402e-ea3f-068154d1ddda"
      },
      "outputs": [
        {
          "output_type": "execute_result",
          "data": {
            "text/plain": [
              "{'a': 3, 'b': 2}"
            ]
          },
          "metadata": {},
          "execution_count": 32
        }
      ],
      "source": [
        "# Your code here\n",
        "def merge_dicts(d1, d2):\n",
        "  merged_dict = d1.copy()\n",
        "  merged_dict.update(d2)   # Update with d2, which overwrites overlapping keys\n",
        "  return merged_dict\n",
        "\n",
        "merge_dicts({'a': 1}, {'a': 3, 'b': 2})"
      ]
    },
    {
      "cell_type": "markdown",
      "id": "0dc24beb",
      "metadata": {
        "id": "0dc24beb"
      },
      "source": [
        "**Q4.3** Write a function `unique_values(lst)` that returns a set of unique values from a list.\n",
        "\n",
        "**Test case:**\n",
        "```python\n",
        "unique_values([1, 2, 2, 3, 3, 3]) ➞ {1, 2, 3}\n",
        "```"
      ]
    },
    {
      "cell_type": "code",
      "execution_count": null,
      "id": "080b8a14",
      "metadata": {
        "id": "080b8a14",
        "colab": {
          "base_uri": "https://localhost:8080/"
        },
        "outputId": "39443152-d3fd-49c5-c7dd-1ee6403f1823"
      },
      "outputs": [
        {
          "output_type": "execute_result",
          "data": {
            "text/plain": [
              "{1, 2, 3}"
            ]
          },
          "metadata": {},
          "execution_count": 33
        }
      ],
      "source": [
        "# Your code here\n",
        "def unique_values(lst):\n",
        "  return set(lst)\n",
        "\n",
        "unique_values([1, 2, 2, 3, 3, 3])"
      ]
    },
    {
      "cell_type": "markdown",
      "id": "06fecf37",
      "metadata": {
        "id": "06fecf37"
      },
      "source": [
        "**Q4.4** Write a function `unpack_tuple(t)` that takes a tuple of 3 elements and prints each value on a new line.\n",
        "\n",
        "**Test case:**\n",
        "```python\n",
        "unpack_tuple(('red', 'green', 'blue'))\n",
        "# Expected:\n",
        "# red\n",
        "# green\n",
        "# blue\n",
        "```"
      ]
    },
    {
      "cell_type": "code",
      "execution_count": null,
      "id": "6f5e6d18",
      "metadata": {
        "id": "6f5e6d18",
        "colab": {
          "base_uri": "https://localhost:8080/"
        },
        "outputId": "f4bb9fca-5ea6-4286-cfec-f4dbc19ad0e6"
      },
      "outputs": [
        {
          "output_type": "execute_result",
          "data": {
            "text/plain": [
              "('red', 'green', 'blue')"
            ]
          },
          "metadata": {},
          "execution_count": 2
        }
      ],
      "source": [
        "# Your code here\n",
        "my_tuple= ('red','green','blue')\n",
        "def unpack_tuple(t):\n",
        "  #interate over tuple\n",
        "  #print tuple item\n",
        "  #end loop when completed interation\n",
        "  a,b,c =  my_tuple\n",
        "  return (a,b,c)\n",
        "\n",
        "unpack_tuple(my_tuple)\n",
        "\n"
      ]
    }
  ],
  "metadata": {
    "language_info": {
      "name": "python"
    },
    "colab": {
      "provenance": [],
      "include_colab_link": true
    },
    "kernelspec": {
      "name": "python3",
      "display_name": "Python 3"
    }
  },
  "nbformat": 4,
  "nbformat_minor": 5
}