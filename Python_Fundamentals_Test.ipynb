{
  "cells": [
    {
      "cell_type": "markdown",
      "metadata": {
        "id": "view-in-github",
        "colab_type": "text"
      },
      "source": [
        "<a href=\"https://colab.research.google.com/github/theaichampion/python_tutorials/blob/main/Python_Fundamentals_Test.ipynb\" target=\"_parent\"><img src=\"https://colab.research.google.com/assets/colab-badge.svg\" alt=\"Open In Colab\"/></a>"
      ]
    },
    {
      "cell_type": "markdown",
      "id": "7c94cd93",
      "metadata": {
        "id": "7c94cd93"
      },
      "source": [
        "## Section 1: Data Types and Variables"
      ]
    },
    {
      "cell_type": "markdown",
      "id": "4c179ff0",
      "metadata": {
        "id": "4c179ff0"
      },
      "source": [
        "**Q1. What is the output of the following code?\n",
        "```python\n",
        "x = 5\n",
        "y = \"5\"\n",
        "print(x + int(y))\n",
        "```**"
      ]
    },
    {
      "cell_type": "code",
      "execution_count": null,
      "id": "bf29105c",
      "metadata": {
        "colab": {
          "base_uri": "https://localhost:8080/"
        },
        "id": "bf29105c",
        "outputId": "639384bb-81b3-4147-f773-ea200a814756"
      },
      "outputs": [
        {
          "output_type": "stream",
          "name": "stdout",
          "text": [
            "10\n"
          ]
        }
      ],
      "source": [
        "# Your answer here\n",
        "x = 5\n",
        "y = \"5\"\n",
        "print(x + int(y))"
      ]
    },
    {
      "cell_type": "markdown",
      "id": "025d5657",
      "metadata": {
        "id": "025d5657"
      },
      "source": [
        "**Q2. What data type is returned by `type(3.0)`?\n",
        "- a) int\n",
        "- b) float\n",
        "- c) str\n",
        "- d) complex**"
      ]
    },
    {
      "cell_type": "code",
      "execution_count": null,
      "id": "ad33efa1",
      "metadata": {
        "id": "ad33efa1"
      },
      "outputs": [],
      "source": [
        "# Your answer here. my answer is b"
      ]
    },
    {
      "cell_type": "markdown",
      "id": "f8546382",
      "metadata": {
        "id": "f8546382"
      },
      "source": [
        "**Q3. What will be the value of `z`?\n",
        "```python\n",
        "a = True\n",
        "b = 4\n",
        "z = a + b\n",
        "print(z)\n",
        "```**"
      ]
    },
    {
      "cell_type": "code",
      "execution_count": null,
      "id": "88be6b7c",
      "metadata": {
        "colab": {
          "base_uri": "https://localhost:8080/"
        },
        "id": "88be6b7c",
        "outputId": "c05208c6-1ecf-4c22-e27d-ceb0160f8334"
      },
      "outputs": [
        {
          "output_type": "stream",
          "name": "stdout",
          "text": [
            "5\n"
          ]
        }
      ],
      "source": [
        "# Your answer here. my 5\n",
        "a = True\n",
        "b = 4\n",
        "z = a + b\n",
        "print(z)"
      ]
    },
    {
      "cell_type": "code",
      "source": [
        "x=3\n"
      ],
      "metadata": {
        "id": "Czo5RBZ75SsG"
      },
      "id": "Czo5RBZ75SsG",
      "execution_count": null,
      "outputs": []
    },
    {
      "cell_type": "code",
      "source": [
        "x>5"
      ],
      "metadata": {
        "colab": {
          "base_uri": "https://localhost:8080/"
        },
        "id": "5XpUH1YU5VhO",
        "outputId": "2d08a9f2-9535-45d7-8a39-04b4e452b12d"
      },
      "id": "5XpUH1YU5VhO",
      "execution_count": null,
      "outputs": [
        {
          "output_type": "execute_result",
          "data": {
            "text/plain": [
              "False"
            ]
          },
          "metadata": {},
          "execution_count": 5
        }
      ]
    },
    {
      "cell_type": "code",
      "source": [
        "if True:\n",
        "  print(\"Yes\")\n",
        "else:\n",
        "  print(\"No\")"
      ],
      "metadata": {
        "colab": {
          "base_uri": "https://localhost:8080/"
        },
        "id": "xJebJ_2j5Y4a",
        "outputId": "abad5abc-1a38-4913-c93a-140db8251e95"
      },
      "id": "xJebJ_2j5Y4a",
      "execution_count": null,
      "outputs": [
        {
          "output_type": "stream",
          "name": "stdout",
          "text": [
            "Yes\n"
          ]
        }
      ]
    },
    {
      "cell_type": "code",
      "source": [
        "if False:\n",
        "  print(\"Yes\")\n",
        "else:\n",
        "  print(\"No\")"
      ],
      "metadata": {
        "colab": {
          "base_uri": "https://localhost:8080/"
        },
        "id": "hXwAjmqu5prj",
        "outputId": "02dfb6a9-e94f-44dc-baf4-b00400e3721f"
      },
      "id": "hXwAjmqu5prj",
      "execution_count": null,
      "outputs": [
        {
          "output_type": "stream",
          "name": "stdout",
          "text": [
            "No\n"
          ]
        }
      ]
    },
    {
      "cell_type": "code",
      "source": [
        "if 1:\n",
        "  print(\"Yes\")\n",
        "else:\n",
        "  print(\"No\")"
      ],
      "metadata": {
        "colab": {
          "base_uri": "https://localhost:8080/"
        },
        "id": "gaPNHZTQ5sot",
        "outputId": "7638b619-cd7a-4291-f3b0-9a4bb1dddadb"
      },
      "id": "gaPNHZTQ5sot",
      "execution_count": null,
      "outputs": [
        {
          "output_type": "stream",
          "name": "stdout",
          "text": [
            "Yes\n"
          ]
        }
      ]
    },
    {
      "cell_type": "code",
      "source": [
        "if 0:\n",
        "  print(\"Yes\")\n",
        "else:\n",
        "  print(\"No\")"
      ],
      "metadata": {
        "colab": {
          "base_uri": "https://localhost:8080/"
        },
        "id": "T2W14Qzc5yat",
        "outputId": "089d8b11-0275-4536-a421-45dd548b2514"
      },
      "id": "T2W14Qzc5yat",
      "execution_count": null,
      "outputs": [
        {
          "output_type": "stream",
          "name": "stdout",
          "text": [
            "No\n"
          ]
        }
      ]
    },
    {
      "cell_type": "code",
      "source": [
        "if 2:\n",
        "  print(\"Yes\")\n",
        "else:\n",
        "  print(\"No\")"
      ],
      "metadata": {
        "colab": {
          "base_uri": "https://localhost:8080/"
        },
        "id": "IAC4Z3Qt51VB",
        "outputId": "284bff11-7086-4f9b-ee1a-f0c289acd966"
      },
      "id": "IAC4Z3Qt51VB",
      "execution_count": null,
      "outputs": [
        {
          "output_type": "stream",
          "name": "stdout",
          "text": [
            "Yes\n"
          ]
        }
      ]
    },
    {
      "cell_type": "code",
      "source": [
        "if -1:\n",
        "  print(\"Yes\")\n",
        "else:\n",
        "  print(\"No\")"
      ],
      "metadata": {
        "colab": {
          "base_uri": "https://localhost:8080/"
        },
        "id": "s8-2S0Ll56g2",
        "outputId": "61e7aaea-8176-4398-844a-2567a5c3c7c9"
      },
      "id": "s8-2S0Ll56g2",
      "execution_count": null,
      "outputs": [
        {
          "output_type": "stream",
          "name": "stdout",
          "text": [
            "Yes\n"
          ]
        }
      ]
    },
    {
      "cell_type": "markdown",
      "id": "dec502bb",
      "metadata": {
        "id": "dec502bb"
      },
      "source": [
        "## Section 2: Input, Output & String Manipulation"
      ]
    },
    {
      "cell_type": "markdown",
      "id": "d69f256c",
      "metadata": {
        "id": "d69f256c"
      },
      "source": [
        "**Q4. Write a Python program that:\n",
        "- Asks the user for their name.\n",
        "- Prints a greeting message in the format: `Hello, <NAME>! Welcome.`**"
      ]
    },
    {
      "cell_type": "code",
      "execution_count": null,
      "id": "bcae7f85",
      "metadata": {
        "id": "bcae7f85",
        "colab": {
          "base_uri": "https://localhost:8080/"
        },
        "outputId": "aeeb0875-c431-4127-c756-b837acddae34"
      },
      "outputs": [
        {
          "output_type": "stream",
          "name": "stdout",
          "text": [
            "What is your name\n",
            "Harry\n",
            "Hello,   Harry !\n"
          ]
        }
      ],
      "source": [
        "\n",
        "print('What is your name')\n",
        "name=input()\n",
        "print('Hello, ',\" %s !\" %name) # Your answer hereprint"
      ]
    },
    {
      "cell_type": "markdown",
      "id": "1741f4ca",
      "metadata": {
        "id": "1741f4ca"
      },
      "source": [
        "**Q5. What will this code output?\n",
        "```python\n",
        "name = \"Alice\"\n",
        "print(name[1:4])\n",
        "```**"
      ]
    },
    {
      "cell_type": "code",
      "execution_count": null,
      "id": "b91d475f",
      "metadata": {
        "id": "b91d475f",
        "colab": {
          "base_uri": "https://localhost:8080/"
        },
        "outputId": "692a9fa2-a689-4ab5-9327-7ba66fa725a7"
      },
      "outputs": [
        {
          "output_type": "stream",
          "name": "stdout",
          "text": [
            "lic\n"
          ]
        }
      ],
      "source": [
        "name = \"Alice\"\n",
        "print(name[1:4])# Your answer here"
      ]
    },
    {
      "cell_type": "markdown",
      "id": "34b838a7",
      "metadata": {
        "id": "34b838a7"
      },
      "source": [
        "**Q6. Write a function that takes a string and returns the same string with all vowels removed.**"
      ]
    },
    {
      "cell_type": "code",
      "execution_count": null,
      "id": "1f111f45",
      "metadata": {
        "id": "1f111f45",
        "colab": {
          "base_uri": "https://localhost:8080/"
        },
        "outputId": "46dcce14-3ef5-4fb6-cb7f-762494f2c502"
      },
      "outputs": [
        {
          "output_type": "stream",
          "name": "stdout",
          "text": [
            "bsbll\n"
          ]
        }
      ],
      "source": [
        "def no_vowels(text):\n",
        "  vowels = 'aeiouAEIOU'\n",
        "  text = list(text)\n",
        "  for i in text:\n",
        "    if i in vowels:\n",
        "      text.remove(i) # Your answer her\n",
        "  return \"\".join(text)\n",
        "\n",
        "print(no_vowels(\"baseball\"))"
      ]
    },
    {
      "cell_type": "markdown",
      "id": "2dba6dc5",
      "metadata": {
        "id": "2dba6dc5"
      },
      "source": [
        "## Section 3: Control Flow (if, elif, else)"
      ]
    },
    {
      "cell_type": "markdown",
      "id": "e2510624",
      "metadata": {
        "id": "e2510624"
      },
      "source": [
        "**Q7. What will this code print?\n",
        "```python\n",
        "num = 7\n",
        "if num > 10:\n",
        "    print(\"Big\")\n",
        "elif num > 5:\n",
        "    print(\"Medium\")\n",
        "else:\n",
        "    print(\"Small\")\n",
        "```**"
      ]
    },
    {
      "cell_type": "code",
      "execution_count": null,
      "id": "a73107f8",
      "metadata": {
        "id": "a73107f8",
        "colab": {
          "base_uri": "https://localhost:8080/"
        },
        "outputId": "9bb34134-5db6-4599-e3a6-e65eb4d0cadd"
      },
      "outputs": [
        {
          "output_type": "stream",
          "name": "stdout",
          "text": [
            "Medium\n"
          ]
        }
      ],
      "source": [
        "num = 7\n",
        "if num > 10:\n",
        "    print(\"Big\")\n",
        "elif num > 5:\n",
        "    print(\"Medium\")\n",
        "else:\n",
        "    print(\"Small\")# Your answer here"
      ]
    },
    {
      "cell_type": "markdown",
      "id": "40aba65b",
      "metadata": {
        "id": "40aba65b"
      },
      "source": [
        "**Q8. Write a program that takes a number from the user and prints whether it is:\n",
        "- Positive\n",
        "- Negative\n",
        "- Zero**"
      ]
    },
    {
      "cell_type": "code",
      "execution_count": null,
      "id": "a58f4238",
      "metadata": {
        "id": "a58f4238",
        "colab": {
          "base_uri": "https://localhost:8080/"
        },
        "outputId": "158cb729-8654-40e9-af86-3493170c1d4c"
      },
      "outputs": [
        {
          "output_type": "stream",
          "name": "stdout",
          "text": [
            "give me a number\n",
            "0\n",
            "Zero\n"
          ]
        }
      ],
      "source": [
        "print('give me a number')\n",
        "num = int(input())\n",
        "\n",
        "if num >0:\n",
        "  print('Positive')\n",
        "elif num <0:\n",
        "  print('Negative')\n",
        "else:\n",
        "  print('Zero')# Your answer here"
      ]
    },
    {
      "cell_type": "markdown",
      "id": "822509d6",
      "metadata": {
        "id": "822509d6"
      },
      "source": [
        "## Section 4: Loops (for, while)"
      ]
    },
    {
      "cell_type": "markdown",
      "id": "5a26fa7c",
      "metadata": {
        "id": "5a26fa7c"
      },
      "source": [
        "**Q9. What is the output?\n",
        "```python\n",
        "for i in range(3):\n",
        "    print(\"Hi\")\n",
        "```**"
      ]
    },
    {
      "cell_type": "code",
      "execution_count": null,
      "id": "5b8887d7",
      "metadata": {
        "id": "5b8887d7",
        "colab": {
          "base_uri": "https://localhost:8080/"
        },
        "outputId": "28d54627-ce38-45b4-ab4d-8be467a0f734"
      },
      "outputs": [
        {
          "output_type": "stream",
          "name": "stdout",
          "text": [
            "Hi\n",
            "Hi\n",
            "Hi\n"
          ]
        }
      ],
      "source": [
        "#hi\n",
        "#hi\n",
        "#hi  Your answer here\n",
        "\n",
        "for i in range(3):\n",
        "    print(\"Hi\")"
      ]
    },
    {
      "cell_type": "markdown",
      "id": "8bf2a917",
      "metadata": {
        "id": "8bf2a917"
      },
      "source": [
        "**Q10. Write a program to print all even numbers from 1 to 20 using a `while` loop.**"
      ]
    },
    {
      "cell_type": "code",
      "execution_count": null,
      "id": "e50e10bd",
      "metadata": {
        "id": "e50e10bd",
        "colab": {
          "base_uri": "https://localhost:8080/"
        },
        "outputId": "7a124dec-a365-4a1a-fb16-6aeeff92a41e"
      },
      "outputs": [
        {
          "output_type": "stream",
          "name": "stdout",
          "text": [
            "2\n",
            "4\n",
            "6\n",
            "8\n",
            "10\n",
            "12\n",
            "14\n",
            "16\n",
            "18\n",
            "20\n"
          ]
        }
      ],
      "source": [
        "i = 1\n",
        "while i <= 20:\n",
        "  if i %2 == 0:\n",
        "    print(i)# Your answer here\n",
        "  i +=1"
      ]
    },
    {
      "cell_type": "markdown",
      "id": "f0b08a59",
      "metadata": {
        "id": "f0b08a59"
      },
      "source": [
        "**Q11. What is the output of this code?\n",
        "```python\n",
        "x = 0\n",
        "while x < 5:\n",
        "    x += 2\n",
        "print(x)\n",
        "```**"
      ]
    },
    {
      "cell_type": "code",
      "execution_count": null,
      "id": "e97b62b7",
      "metadata": {
        "id": "e97b62b7",
        "colab": {
          "base_uri": "https://localhost:8080/"
        },
        "outputId": "e342ef2b-4c85-497d-e2f0-714a0474c228"
      },
      "outputs": [
        {
          "output_type": "stream",
          "name": "stdout",
          "text": [
            "2\n",
            "4\n",
            "6\n"
          ]
        }
      ],
      "source": [
        "# Your answer here\n",
        "#answer 2, 4. -- tricked me on this one :)\n",
        "x = 0\n",
        "while x < 5:\n",
        "    x += 2\n",
        "    print(x)"
      ]
    },
    {
      "cell_type": "markdown",
      "id": "85141214",
      "metadata": {
        "id": "85141214"
      },
      "source": [
        "## Section 5: Lists"
      ]
    },
    {
      "cell_type": "markdown",
      "id": "b4f76559",
      "metadata": {
        "id": "b4f76559"
      },
      "source": [
        "**Q12. What is the result of this code?\n",
        "```python\n",
        "nums = [1, 2, 3]\n",
        "nums.append(4)\n",
        "print(nums)\n",
        "```**"
      ]
    },
    {
      "cell_type": "code",
      "execution_count": null,
      "id": "89cd62b2",
      "metadata": {
        "id": "89cd62b2",
        "colab": {
          "base_uri": "https://localhost:8080/"
        },
        "outputId": "516b9f89-e384-4fd5-abc5-e3a7b227200a"
      },
      "outputs": [
        {
          "output_type": "stream",
          "name": "stdout",
          "text": [
            "[1, 2, 3, 4]\n"
          ]
        }
      ],
      "source": [
        "# Your answer here.\n",
        "# my answer [1, 2, 3, 4].\n",
        "nums = [1, 2, 3]\n",
        "nums.append(4)\n",
        "print(nums)\n"
      ]
    },
    {
      "cell_type": "markdown",
      "id": "35804960",
      "metadata": {
        "id": "35804960"
      },
      "source": [
        "**Q13. Write a function that takes a list and returns the sum of all odd numbers in it.**"
      ]
    },
    {
      "cell_type": "code",
      "execution_count": null,
      "id": "4a4c17ab",
      "metadata": {
        "id": "4a4c17ab",
        "colab": {
          "base_uri": "https://localhost:8080/"
        },
        "outputId": "74643895-afbb-4c5e-cbbe-3027bd682e74"
      },
      "outputs": [
        {
          "output_type": "stream",
          "name": "stdout",
          "text": [
            "25\n"
          ]
        }
      ],
      "source": [
        "# Your answer here\n",
        "total_list = [1, 2, 3, 4, 5, 6, 7, 8, 9, 10]\n",
        "\n",
        "\n",
        "\n",
        "def total_sum_odd(total_list):\n",
        "  total_sum_odd_list = 0\n",
        "  for i in total_list:\n",
        "    if i % 2 == 1:\n",
        "      total_sum_odd_list += i\n",
        "  return total_sum_odd_list\n",
        "\n",
        "\n",
        "print(total_sum_odd(total_list))"
      ]
    },
    {
      "cell_type": "markdown",
      "id": "ce88133c",
      "metadata": {
        "id": "ce88133c"
      },
      "source": [
        "**Q14. What will this code output?\n",
        "```python\n",
        "a = [1, 2, 3]\n",
        "b = a\n",
        "b[0] = 100\n",
        "print(a)\n",
        "```**"
      ]
    },
    {
      "cell_type": "code",
      "execution_count": null,
      "id": "ca7f0aa7",
      "metadata": {
        "id": "ca7f0aa7",
        "colab": {
          "base_uri": "https://localhost:8080/"
        },
        "outputId": "e5b77081-b421-471f-ccc8-05ed4e54da65"
      },
      "outputs": [
        {
          "output_type": "stream",
          "name": "stdout",
          "text": [
            "[100, 2, 3]\n"
          ]
        }
      ],
      "source": [
        "# Your answer here. my answer is 1 and i was wrong :(\n",
        "a = [1, 2, 3]\n",
        "b = a\n",
        "b[0] = 100\n",
        "print(a)"
      ]
    },
    {
      "cell_type": "code",
      "source": [
        "a = [1, 2, 3]\n",
        "b = a.copy()\n",
        "b[0] = 100\n",
        "print(a)"
      ],
      "metadata": {
        "id": "NFFvLFg1ElUH",
        "outputId": "ce563803-45dc-41de-cb10-26fec18cb4a2",
        "colab": {
          "base_uri": "https://localhost:8080/"
        }
      },
      "id": "NFFvLFg1ElUH",
      "execution_count": null,
      "outputs": [
        {
          "output_type": "stream",
          "name": "stdout",
          "text": [
            "[1, 2, 3]\n"
          ]
        }
      ]
    },
    {
      "cell_type": "markdown",
      "id": "1caffe69",
      "metadata": {
        "id": "1caffe69"
      },
      "source": [
        "## Bonus Challenge"
      ]
    },
    {
      "cell_type": "markdown",
      "id": "c9885728",
      "metadata": {
        "id": "c9885728"
      },
      "source": [
        "**Q15. Write a program that:\n",
        "- Asks the user for 5 numbers\n",
        "- Stores them in a list\n",
        "- Prints the maximum and the average of the list**"
      ]
    },
    {
      "cell_type": "code",
      "execution_count": null,
      "id": "61b561b0",
      "metadata": {
        "id": "61b561b0",
        "colab": {
          "base_uri": "https://localhost:8080/"
        },
        "outputId": "9d8d293d-69dd-41ed-dc41-c291de7e9415"
      },
      "outputs": [
        {
          "output_type": "stream",
          "name": "stdout",
          "text": [
            "give me 5 numbers\n",
            "1\n",
            "2\n",
            "3\n",
            "4\n",
            "5\n",
            "5\n",
            "3.0\n"
          ]
        }
      ],
      "source": [
        "# Your answer here\n",
        "print('give me 5 numbers')\n",
        "num1 = int(input())\n",
        "num2 = int(input())\n",
        "num3 = int(input())\n",
        "num4 = int(input())\n",
        "num5 = int(input())\n",
        "list = [num1, num2, num3, num4, num5]\n",
        "print(max(list))\n",
        "print(sum(list)/len(list))\n"
      ]
    }
  ],
  "metadata": {
    "colab": {
      "provenance": [],
      "include_colab_link": true
    },
    "language_info": {
      "name": "python"
    },
    "kernelspec": {
      "name": "python3",
      "display_name": "Python 3"
    }
  },
  "nbformat": 4,
  "nbformat_minor": 5
}