{
  "cells": [
    {
      "cell_type": "markdown",
      "metadata": {
        "id": "view-in-github",
        "colab_type": "text"
      },
      "source": [
        "<a href=\"https://colab.research.google.com/github/theaichampion/python_tutorials/blob/new_branch-test/python_dict_lesson.ipynb\" target=\"_parent\"><img src=\"https://colab.research.google.com/assets/colab-badge.svg\" alt=\"Open In Colab\"/></a>"
      ]
    },
    {
      "cell_type": "markdown",
      "id": "a4c9636a",
      "metadata": {
        "id": "a4c9636a"
      },
      "source": [
        "# Python Lesson: Dictionary\n",
        "\n",
        "In this lesson, you'll learn:\n",
        "\n",
        "- What is a Dictionary?\n",
        "- How to create and use a Dictionary\n",
        "- Dictionary methods and operations\n",
        "- Practice Exercises"
      ]
    },
    {
      "cell_type": "code",
      "source": [
        "my_set={1,2,3} # does not allow duplicates # unorder\n",
        "my_dict={'A1':2,\"A2\":5} # unorder\n",
        "\n",
        "my_tuple=(1,2) #order , unmutable"
      ],
      "metadata": {
        "id": "3QCI-rzQFMNu"
      },
      "id": "3QCI-rzQFMNu",
      "execution_count": null,
      "outputs": []
    },
    {
      "cell_type": "markdown",
      "id": "e9fd4331",
      "metadata": {
        "id": "e9fd4331"
      },
      "source": [
        "## What is a Dictionary?\n",
        "- A dictionary is an **unordered** collection of key-value pairs.\n",
        "- Each key must be **unique**.\n",
        "- Dictionaries are **mutable** (can change their contents).\n",
        "- Syntax: `{key: value}`"
      ]
    },
    {
      "cell_type": "markdown",
      "id": "1322a19b",
      "metadata": {
        "id": "1322a19b"
      },
      "source": [
        "### Creating a Dictionary"
      ]
    },
    {
      "cell_type": "code",
      "execution_count": null,
      "id": "c41f34f6",
      "metadata": {
        "colab": {
          "base_uri": "https://localhost:8080/"
        },
        "id": "c41f34f6",
        "outputId": "206ecc1d-9d7f-43e2-e8be-631ab927c267"
      },
      "outputs": [
        {
          "output_type": "stream",
          "name": "stdout",
          "text": [
            "my_dict: {'name': 'Alice', 'age': 25, 'city': 'Cairo'}\n"
          ]
        }
      ],
      "source": [
        "my_dict = {\"name\": \"Alice\", \"age\": 25, \"city\": \"Alex\",\"city\": \"Cairo\"}\n",
        "print(\"my_dict:\", my_dict)"
      ]
    },
    {
      "cell_type": "markdown",
      "id": "e8c5f328",
      "metadata": {
        "id": "e8c5f328"
      },
      "source": [
        "### Accessing Values"
      ]
    },
    {
      "cell_type": "code",
      "execution_count": null,
      "id": "6ec5a984",
      "metadata": {
        "colab": {
          "base_uri": "https://localhost:8080/"
        },
        "id": "6ec5a984",
        "outputId": "ef4ffbeb-bac3-42c3-d114-a49515fceb17"
      },
      "outputs": [
        {
          "output_type": "stream",
          "name": "stdout",
          "text": [
            "Name: Alice\n",
            "Age: 25\n"
          ]
        }
      ],
      "source": [
        "print(\"Name:\", my_dict[\"name\"])\n",
        "print(\"Age:\", my_dict[\"age\"])"
      ]
    },
    {
      "cell_type": "markdown",
      "id": "963d6ea7",
      "metadata": {
        "id": "963d6ea7"
      },
      "source": [
        "### Adding or Updating Values"
      ]
    },
    {
      "cell_type": "code",
      "execution_count": null,
      "id": "9980da2d",
      "metadata": {
        "colab": {
          "base_uri": "https://localhost:8080/"
        },
        "id": "9980da2d",
        "outputId": "40524966-7739-4410-a61c-d9fd8462276f"
      },
      "outputs": [
        {
          "output_type": "stream",
          "name": "stdout",
          "text": [
            "Updated my_dict: {'name': 'Alice', 'age': 26, 'city': 'Cairo', 'country': 'Egypt'}\n"
          ]
        }
      ],
      "source": [
        "my_dict[\"age\"] = 26\n",
        "my_dict[\"country\"] = \"Egypt\"\n",
        "print(\"Updated my_dict:\", my_dict)"
      ]
    },
    {
      "cell_type": "markdown",
      "id": "89a57308",
      "metadata": {
        "id": "89a57308"
      },
      "source": [
        "### Removing a Key-Value Pair"
      ]
    },
    {
      "cell_type": "code",
      "execution_count": null,
      "id": "4b984d05",
      "metadata": {
        "colab": {
          "base_uri": "https://localhost:8080/"
        },
        "id": "4b984d05",
        "outputId": "c286ef3a-665f-4c0e-8fd2-46a2d6034be9"
      },
      "outputs": [
        {
          "output_type": "stream",
          "name": "stdout",
          "text": [
            "After deletion: {'name': 'Alice', 'age': 26, 'country': 'Egypt'}\n"
          ]
        }
      ],
      "source": [
        "del my_dict[\"city\"]\n",
        "print(\"After deletion:\", my_dict)"
      ]
    },
    {
      "cell_type": "markdown",
      "id": "602811ef",
      "metadata": {
        "id": "602811ef"
      },
      "source": [
        "### Using `get()` Method (safe access)"
      ]
    },
    {
      "cell_type": "code",
      "execution_count": null,
      "id": "242e9734",
      "metadata": {
        "colab": {
          "base_uri": "https://localhost:8080/"
        },
        "id": "242e9734",
        "outputId": "e68038f4-21cd-4e65-b381-da0f831f596a"
      },
      "outputs": [
        {
          "output_type": "stream",
          "name": "stdout",
          "text": [
            "Country: Egypt\n"
          ]
        }
      ],
      "source": [
        "print(\"Country:\", my_dict.get(\"country\"))\n"
      ]
    },
    {
      "cell_type": "code",
      "source": [
        "print(\"Country:\", my_dict.get(\"countryWJBJHvjh \"))\n"
      ],
      "metadata": {
        "colab": {
          "base_uri": "https://localhost:8080/"
        },
        "id": "dKrKKxghHaBb",
        "outputId": "2f7b3d94-5eb3-4ac2-e636-26331d91cd58"
      },
      "id": "dKrKKxghHaBb",
      "execution_count": null,
      "outputs": [
        {
          "output_type": "stream",
          "name": "stdout",
          "text": [
            "Country: None\n"
          ]
        }
      ]
    },
    {
      "cell_type": "code",
      "source": [
        "my_dict"
      ],
      "metadata": {
        "colab": {
          "base_uri": "https://localhost:8080/"
        },
        "id": "rbKYsJRjHpul",
        "outputId": "db456a8f-8f6e-4ae5-d9f2-865612689c6c"
      },
      "id": "rbKYsJRjHpul",
      "execution_count": null,
      "outputs": [
        {
          "output_type": "execute_result",
          "data": {
            "text/plain": [
              "{'name': 'Alice', 'age': 26, 'country': 'Egypt'}"
            ]
          },
          "metadata": {},
          "execution_count": 15
        }
      ]
    },
    {
      "cell_type": "code",
      "source": [
        "\n",
        "print(\"City:\", my_dict.get(\"city\", \"Not found\"))"
      ],
      "metadata": {
        "colab": {
          "base_uri": "https://localhost:8080/"
        },
        "id": "FtK_vzovHWBL",
        "outputId": "0a4a1f00-c3aa-4a43-cb40-7d663d6bbd6a"
      },
      "id": "FtK_vzovHWBL",
      "execution_count": null,
      "outputs": [
        {
          "output_type": "stream",
          "name": "stdout",
          "text": [
            "City: Not found\n"
          ]
        }
      ]
    },
    {
      "cell_type": "markdown",
      "id": "aadee845",
      "metadata": {
        "id": "aadee845"
      },
      "source": [
        "### Iterating Over Dictionary"
      ]
    },
    {
      "cell_type": "code",
      "execution_count": null,
      "id": "d6c06dfa",
      "metadata": {
        "colab": {
          "base_uri": "https://localhost:8080/"
        },
        "id": "d6c06dfa",
        "outputId": "08a931fe-a65e-44d6-e65d-342603b9a7c4"
      },
      "outputs": [
        {
          "output_type": "stream",
          "name": "stdout",
          "text": [
            "name -> Alice\n",
            "age -> 26\n",
            "country -> Egypt\n"
          ]
        }
      ],
      "source": [
        "for x,y in my_dict.items():\n",
        "    print(x, \"->\", y)"
      ]
    },
    {
      "cell_type": "code",
      "source": [
        "for key in my_dict.keys():\n",
        "    print(key)"
      ],
      "metadata": {
        "colab": {
          "base_uri": "https://localhost:8080/"
        },
        "id": "pycP3ZfCID0n",
        "outputId": "02d82f15-fb91-436c-8ef1-38abcf191336"
      },
      "id": "pycP3ZfCID0n",
      "execution_count": null,
      "outputs": [
        {
          "output_type": "stream",
          "name": "stdout",
          "text": [
            "name\n",
            "age\n",
            "country\n"
          ]
        }
      ]
    },
    {
      "cell_type": "code",
      "source": [
        "for value in my_dict.values():\n",
        "    print( value)"
      ],
      "metadata": {
        "colab": {
          "base_uri": "https://localhost:8080/"
        },
        "id": "EAjlr9hEIKGg",
        "outputId": "32a4ac3c-8e05-4311-946a-24d193c20069"
      },
      "id": "EAjlr9hEIKGg",
      "execution_count": null,
      "outputs": [
        {
          "output_type": "stream",
          "name": "stdout",
          "text": [
            "Alice\n",
            "26\n",
            "Egypt\n"
          ]
        }
      ]
    },
    {
      "cell_type": "markdown",
      "id": "836046fb",
      "metadata": {
        "id": "836046fb"
      },
      "source": [
        "### Dictionary Keys, Values, and Items"
      ]
    },
    {
      "cell_type": "code",
      "execution_count": null,
      "id": "7abd27ec",
      "metadata": {
        "colab": {
          "base_uri": "https://localhost:8080/"
        },
        "id": "7abd27ec",
        "outputId": "9f08e565-3e89-4824-dc58-2b07196a4e7f"
      },
      "outputs": [
        {
          "output_type": "stream",
          "name": "stdout",
          "text": [
            "Keys: dict_keys(['name', 'age', 'country'])\n",
            "Values: dict_values(['Alice', 26, 'Egypt'])\n",
            "Items: dict_items([('name', 'Alice'), ('age', 26), ('country', 'Egypt')])\n"
          ]
        }
      ],
      "source": [
        "print(\"Keys:\", my_dict.keys())\n",
        "print(\"Values:\", my_dict.values())\n",
        "print(\"Items:\", my_dict.items())"
      ]
    },
    {
      "cell_type": "markdown",
      "id": "3df55523",
      "metadata": {
        "id": "3df55523"
      },
      "source": [
        "### Checking Key Membership"
      ]
    },
    {
      "cell_type": "code",
      "execution_count": null,
      "id": "fdedf9a4",
      "metadata": {
        "colab": {
          "base_uri": "https://localhost:8080/"
        },
        "id": "fdedf9a4",
        "outputId": "0b32e358-e98f-4f11-fdcb-31d660fdc988"
      },
      "outputs": [
        {
          "output_type": "stream",
          "name": "stdout",
          "text": [
            "Is 'name' a key? True\n",
            "Is 'city' a key? False\n"
          ]
        }
      ],
      "source": [
        "print(\"Is 'name' a key?\", \"name\" in my_dict)\n",
        "print(\"Is 'city' a key?\", \"city\" in my_dict)\n"
      ]
    },
    {
      "cell_type": "code",
      "source": [
        "print(\"name\" and \"age\" in my_dict)"
      ],
      "metadata": {
        "colab": {
          "base_uri": "https://localhost:8080/"
        },
        "id": "KzDxS-k6JSo-",
        "outputId": "03678cc6-3918-49b8-f311-54a4aed0fe04"
      },
      "id": "KzDxS-k6JSo-",
      "execution_count": null,
      "outputs": [
        {
          "output_type": "stream",
          "name": "stdout",
          "text": [
            "True\n"
          ]
        }
      ]
    },
    {
      "cell_type": "code",
      "source": [
        "print(my_dict[\"name\"], my_dict[\"age\"])"
      ],
      "metadata": {
        "colab": {
          "base_uri": "https://localhost:8080/"
        },
        "id": "5IF3unv9JY7A",
        "outputId": "d0492cc2-dfbc-4c8d-f74e-27bfeffe19a3"
      },
      "id": "5IF3unv9JY7A",
      "execution_count": null,
      "outputs": [
        {
          "output_type": "stream",
          "name": "stdout",
          "text": [
            "Alice 26\n"
          ]
        }
      ]
    },
    {
      "cell_type": "markdown",
      "id": "72fca059",
      "metadata": {
        "id": "72fca059"
      },
      "source": [
        "## Why use Dictionary?\n",
        "- Efficient for fast lookup\n",
        "- Great for representing structured data (e.g., user profiles)\n",
        "- Flexible and dynamic"
      ]
    },
    {
      "cell_type": "markdown",
      "id": "f02494c5",
      "metadata": {
        "id": "f02494c5"
      },
      "source": [
        "## Exercises"
      ]
    },
    {
      "cell_type": "markdown",
      "id": "6112a6f4",
      "metadata": {
        "id": "6112a6f4"
      },
      "source": [
        "### 1️⃣ Create a dictionary with keys: `name`, `age`, `city`"
      ]
    },
    {
      "cell_type": "code",
      "execution_count": null,
      "id": "16c96691",
      "metadata": {
        "id": "16c96691",
        "colab": {
          "base_uri": "https://localhost:8080/"
        },
        "outputId": "c741d82f-a7b1-4b2d-dafa-ebd985c81c6f"
      },
      "outputs": [
        {
          "output_type": "stream",
          "name": "stdout",
          "text": [
            "{'name': 'ben', 'age': 49, 'city': 'Chicago'}\n"
          ]
        }
      ],
      "source": [
        "# Your code here\n",
        "my_dictionary = {\"name\":\"ben\",\"age\":49,\"city\":\"Chicago\"}\n",
        "print(my_dictionary)"
      ]
    },
    {
      "cell_type": "markdown",
      "id": "58c5f603",
      "metadata": {
        "id": "58c5f603"
      },
      "source": [
        "### 2️⃣ Access and print the value of `city`"
      ]
    },
    {
      "cell_type": "code",
      "execution_count": null,
      "id": "4d0c8214",
      "metadata": {
        "id": "4d0c8214",
        "colab": {
          "base_uri": "https://localhost:8080/"
        },
        "outputId": "8f01bde3-256c-45cd-93c5-91fd05450d2d"
      },
      "outputs": [
        {
          "output_type": "stream",
          "name": "stdout",
          "text": [
            "Chicago\n"
          ]
        }
      ],
      "source": [
        "# Your code here\n",
        "print(my_dictionary[\"city\"])"
      ]
    },
    {
      "cell_type": "markdown",
      "id": "43fc5915",
      "metadata": {
        "id": "43fc5915"
      },
      "source": [
        "### 3️⃣ Add a new key `hobby` with a value"
      ]
    },
    {
      "cell_type": "code",
      "execution_count": null,
      "id": "decb50db",
      "metadata": {
        "id": "decb50db",
        "colab": {
          "base_uri": "https://localhost:8080/"
        },
        "outputId": "8be6a8c6-9c01-4b52-c358-d9bcb30c4677"
      },
      "outputs": [
        {
          "output_type": "stream",
          "name": "stdout",
          "text": [
            "{'name': 'ben', 'age': 49, 'city': 'Chicago', 'hobby': 'cycling'}\n"
          ]
        }
      ],
      "source": [
        "# Your cod\n",
        "my_dictionary[\"hobby\"] = \"cycling\"\n",
        "print(my_dictionary)"
      ]
    },
    {
      "cell_type": "markdown",
      "id": "47b5fd2f",
      "metadata": {
        "id": "47b5fd2f"
      },
      "source": [
        "### 4️⃣ Update the value of `age`"
      ]
    },
    {
      "cell_type": "code",
      "execution_count": null,
      "id": "afd4027b",
      "metadata": {
        "id": "afd4027b",
        "colab": {
          "base_uri": "https://localhost:8080/"
        },
        "outputId": "10ddefe4-7ce5-400d-fd8f-0c58a2d66742"
      },
      "outputs": [
        {
          "output_type": "stream",
          "name": "stdout",
          "text": [
            "{'name': 'ben', 'age': 50, 'city': 'Chicago', 'hobby': 'cycling'}\n"
          ]
        }
      ],
      "source": [
        "# Your code here\n",
        "my_dictionary[\"age\"] = 50\n",
        "print(my_dictionary)"
      ]
    },
    {
      "cell_type": "markdown",
      "id": "e3044c53",
      "metadata": {
        "id": "e3044c53"
      },
      "source": [
        "### 5️⃣ Remove the key `city` from the dictionary"
      ]
    },
    {
      "cell_type": "code",
      "execution_count": null,
      "id": "76c5d613",
      "metadata": {
        "id": "76c5d613",
        "colab": {
          "base_uri": "https://localhost:8080/"
        },
        "outputId": "f6a693f8-8f73-4915-9697-8916e52653c1"
      },
      "outputs": [
        {
          "output_type": "stream",
          "name": "stdout",
          "text": [
            "{'name': 'ben', 'age': 50, 'hobby': 'cycling'}\n"
          ]
        }
      ],
      "source": [
        "# Your code here\n",
        "del my_dictionary[\"city\"]\n",
        "print(my_dictionary)"
      ]
    },
    {
      "cell_type": "markdown",
      "id": "2b586834",
      "metadata": {
        "id": "2b586834"
      },
      "source": [
        "### 6️⃣ Use `get()` to access a key that does not exist"
      ]
    },
    {
      "cell_type": "code",
      "execution_count": null,
      "id": "3644efc5",
      "metadata": {
        "id": "3644efc5",
        "colab": {
          "base_uri": "https://localhost:8080/"
        },
        "outputId": "484b3fec-3abe-4190-8b30-f3d7946c5856"
      },
      "outputs": [
        {
          "output_type": "stream",
          "name": "stdout",
          "text": [
            "not there\n"
          ]
        }
      ],
      "source": [
        "# Your code here\n",
        "\n",
        "check_if_there = my_dictionary.get(\"county\", \"not there\")\n",
        "print(check_if_there)"
      ]
    },
    {
      "cell_type": "markdown",
      "id": "10e4d8d7",
      "metadata": {
        "id": "10e4d8d7"
      },
      "source": [
        "### 7️⃣ Iterate over the dictionary and print all keys and values"
      ]
    },
    {
      "cell_type": "code",
      "execution_count": null,
      "id": "53bd3b74",
      "metadata": {
        "id": "53bd3b74",
        "colab": {
          "base_uri": "https://localhost:8080/"
        },
        "outputId": "d410f3ab-9bb2-4670-953e-c79803f53fd8"
      },
      "outputs": [
        {
          "output_type": "stream",
          "name": "stdout",
          "text": [
            "name ben\n",
            "age 50\n",
            "hobby cycling\n"
          ]
        }
      ],
      "source": [
        "# Your code here\n",
        "for key, value in my_dictionary.items():\n",
        "  print(key,value)"
      ]
    },
    {
      "cell_type": "markdown",
      "id": "c74fe4ac",
      "metadata": {
        "id": "c74fe4ac"
      },
      "source": [
        "### 8️⃣ Print all dictionary keys"
      ]
    },
    {
      "cell_type": "code",
      "execution_count": null,
      "id": "11b59fe5",
      "metadata": {
        "id": "11b59fe5",
        "colab": {
          "base_uri": "https://localhost:8080/"
        },
        "outputId": "e344d31d-0c61-4135-9b83-032d2d62e081"
      },
      "outputs": [
        {
          "output_type": "stream",
          "name": "stdout",
          "text": [
            "dict_keys(['name', 'age', 'hobby'])\n"
          ]
        }
      ],
      "source": [
        "# Your code here\n",
        "print(my_dictionary.keys())"
      ]
    },
    {
      "cell_type": "markdown",
      "id": "11271e12",
      "metadata": {
        "id": "11271e12"
      },
      "source": [
        "### 9️⃣ Check if `name` key exists in the dictionary"
      ]
    },
    {
      "cell_type": "code",
      "execution_count": null,
      "id": "a1e2184f",
      "metadata": {
        "id": "a1e2184f",
        "colab": {
          "base_uri": "https://localhost:8080/"
        },
        "outputId": "15535da0-8d18-4a5d-f724-2393fe0413df"
      },
      "outputs": [
        {
          "output_type": "stream",
          "name": "stdout",
          "text": [
            "Not in dictionary\n"
          ]
        }
      ],
      "source": [
        "# Your code here\n",
        "print(my_dictionary.get(\"countryWJBJHvjh\", \"Not in dictionary\"))\n"
      ]
    },
    {
      "cell_type": "markdown",
      "id": "8649910e",
      "metadata": {
        "id": "8649910e"
      },
      "source": [
        "### 🔟 Clear the dictionary"
      ]
    },
    {
      "cell_type": "code",
      "execution_count": null,
      "id": "83be5916",
      "metadata": {
        "id": "83be5916"
      },
      "outputs": [],
      "source": [
        "# Your code here\n",
        "my_dictionary.clear()"
      ]
    }
  ],
  "metadata": {
    "language_info": {
      "name": "python"
    },
    "colab": {
      "provenance": [],
      "include_colab_link": true
    },
    "kernelspec": {
      "name": "python3",
      "display_name": "Python 3"
    }
  },
  "nbformat": 4,
  "nbformat_minor": 5
}