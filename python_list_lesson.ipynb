{
  "cells": [
    {
      "cell_type": "markdown",
      "metadata": {
        "id": "view-in-github",
        "colab_type": "text"
      },
      "source": [
        "<a href=\"https://colab.research.google.com/github/theaichampion/python_tutorials/blob/new_branch-test/python_list_lesson.ipynb\" target=\"_parent\"><img src=\"https://colab.research.google.com/assets/colab-badge.svg\" alt=\"Open In Colab\"/></a>"
      ]
    },
    {
      "cell_type": "markdown",
      "id": "6f2b31de",
      "metadata": {
        "id": "6f2b31de"
      },
      "source": [
        "# Python Lesson: List\n",
        "\n",
        "In this lesson, you'll learn:\n",
        "\n",
        "- What is a List?\n",
        "- How to create and use a List\n",
        "- List methods and operations\n",
        "- Practice Exercises"
      ]
    },
    {
      "cell_type": "markdown",
      "id": "fc90b757",
      "metadata": {
        "id": "fc90b757"
      },
      "source": [
        "## What is a List?\n",
        "- A list is an **ordered** collection of elements.\n",
        "- Lists are **mutable** (can change their contents).\n",
        "- Lists can contain **duplicates**.\n",
        "- Syntax: `[item1, item2, item3]`"
      ]
    },
    {
      "cell_type": "markdown",
      "id": "f9efa934",
      "metadata": {
        "id": "f9efa934"
      },
      "source": [
        "### Creating a List"
      ]
    },
    {
      "cell_type": "code",
      "source": [
        "test_lst=[]"
      ],
      "metadata": {
        "id": "uAuGdG0vDQgw"
      },
      "id": "uAuGdG0vDQgw",
      "execution_count": null,
      "outputs": []
    },
    {
      "cell_type": "code",
      "execution_count": null,
      "id": "098fc014",
      "metadata": {
        "colab": {
          "base_uri": "https://localhost:8080/"
        },
        "id": "098fc014",
        "outputId": "4bff6f84-ca5f-4d9e-ad2a-99b88282c504"
      },
      "outputs": [
        {
          "output_type": "stream",
          "name": "stdout",
          "text": [
            "my_list: [10, 20, 30, 40, 50]\n"
          ]
        }
      ],
      "source": [
        "my_list = [10, 20, 30, 40, 50]\n",
        "print(\"my_list:\", my_list)"
      ]
    },
    {
      "cell_type": "markdown",
      "id": "9c9b3a46",
      "metadata": {
        "id": "9c9b3a46"
      },
      "source": [
        "### Accessing List Elements"
      ]
    },
    {
      "cell_type": "code",
      "execution_count": null,
      "id": "3f485ed1",
      "metadata": {
        "colab": {
          "base_uri": "https://localhost:8080/"
        },
        "id": "3f485ed1",
        "outputId": "571fdc43-7080-4955-c623-ee16c1fe8514"
      },
      "outputs": [
        {
          "output_type": "stream",
          "name": "stdout",
          "text": [
            "First element: 10\n",
            "Last element: 50\n"
          ]
        }
      ],
      "source": [
        "print(\"First element:\", my_list[0])\n",
        "print(\"Last element:\", my_list[-1])"
      ]
    },
    {
      "cell_type": "markdown",
      "id": "2815755b",
      "metadata": {
        "id": "2815755b"
      },
      "source": [
        "### Adding Elements to a List (append)"
      ]
    },
    {
      "cell_type": "code",
      "execution_count": null,
      "id": "20843eb3",
      "metadata": {
        "colab": {
          "base_uri": "https://localhost:8080/"
        },
        "id": "20843eb3",
        "outputId": "b8559d6a-57d8-447e-9a62-fbabd0145ac0"
      },
      "outputs": [
        {
          "output_type": "stream",
          "name": "stdout",
          "text": [
            "After append: [10, 40, 25, 50, 60]\n"
          ]
        }
      ],
      "source": [
        "my_list.append(60)\n",
        "print(\"After append:\", my_list)"
      ]
    },
    {
      "cell_type": "markdown",
      "id": "6e138535",
      "metadata": {
        "id": "6e138535"
      },
      "source": [
        "### Inserting Elements at a Specific Position"
      ]
    },
    {
      "cell_type": "code",
      "execution_count": null,
      "id": "f17f3a65",
      "metadata": {
        "colab": {
          "base_uri": "https://localhost:8080/"
        },
        "id": "f17f3a65",
        "outputId": "dd0cc91c-ecca-415f-f90e-989d034c9d9e"
      },
      "outputs": [
        {
          "output_type": "stream",
          "name": "stdout",
          "text": [
            "After insert: [10, 40, 25, 50]\n"
          ]
        }
      ],
      "source": [
        "my_list.insert(2, 25)\n",
        "print(\"After insert:\", my_list)"
      ]
    },
    {
      "cell_type": "markdown",
      "id": "3d210f85",
      "metadata": {
        "id": "3d210f85"
      },
      "source": [
        "### Removing Elements from a List"
      ]
    },
    {
      "cell_type": "code",
      "execution_count": null,
      "id": "31e5fbb5",
      "metadata": {
        "colab": {
          "base_uri": "https://localhost:8080/"
        },
        "id": "31e5fbb5",
        "outputId": "b9aa2811-6327-405d-a064-243107fec799"
      },
      "outputs": [
        {
          "output_type": "stream",
          "name": "stdout",
          "text": [
            "None\n",
            "After remove: [10, 20, 40, 50, 60]\n"
          ]
        }
      ],
      "source": [
        "x=my_list.remove(25)\n",
        "print(x)\n",
        "print(\"After remove:\", my_list)"
      ]
    },
    {
      "cell_type": "markdown",
      "id": "56ed856b",
      "metadata": {
        "id": "56ed856b"
      },
      "source": [
        "### Popping Elements from a List"
      ]
    },
    {
      "cell_type": "code",
      "execution_count": null,
      "id": "e7ae2ae4",
      "metadata": {
        "colab": {
          "base_uri": "https://localhost:8080/"
        },
        "id": "e7ae2ae4",
        "outputId": "7061fe63-1fd8-4594-b7a4-7f3f5f049177"
      },
      "outputs": [
        {
          "output_type": "stream",
          "name": "stdout",
          "text": [
            "Popped item: 40\n",
            "After pop: [10, 25, 50, 60]\n"
          ]
        }
      ],
      "source": [
        "popped_item = my_list.pop(1)\n",
        "print(\"Popped item:\", popped_item)\n",
        "print(\"After pop:\", my_list)"
      ]
    },
    {
      "cell_type": "code",
      "source": [
        "my_list"
      ],
      "metadata": {
        "colab": {
          "base_uri": "https://localhost:8080/"
        },
        "id": "wetF28QZE4_m",
        "outputId": "acdbe834-5240-4be7-84e5-b3c8e0d0a8f8"
      },
      "id": "wetF28QZE4_m",
      "execution_count": null,
      "outputs": [
        {
          "output_type": "execute_result",
          "data": {
            "text/plain": [
              "[10, 40, 25, 50, 60]"
            ]
          },
          "metadata": {},
          "execution_count": 13
        }
      ]
    },
    {
      "cell_type": "markdown",
      "id": "6756cd8f",
      "metadata": {
        "id": "6756cd8f"
      },
      "source": [
        "### List Slicing"
      ]
    },
    {
      "cell_type": "code",
      "execution_count": null,
      "id": "47db291d",
      "metadata": {
        "colab": {
          "base_uri": "https://localhost:8080/"
        },
        "id": "47db291d",
        "outputId": "b20c0d1f-455a-4da6-8ab6-027bd5574a97"
      },
      "outputs": [
        {
          "output_type": "stream",
          "name": "stdout",
          "text": [
            "Slice: [40, 25, 50]\n"
          ]
        }
      ],
      "source": [
        "print(\"Slice:\", my_list[1:4])"
      ]
    },
    {
      "cell_type": "code",
      "source": [
        "print(\"Slice:\", my_list[:])"
      ],
      "metadata": {
        "colab": {
          "base_uri": "https://localhost:8080/"
        },
        "id": "YLzGhuL9FLYT",
        "outputId": "f6ec5586-d71f-4f2e-9a93-008a28e0aad2"
      },
      "id": "YLzGhuL9FLYT",
      "execution_count": null,
      "outputs": [
        {
          "output_type": "stream",
          "name": "stdout",
          "text": [
            "Slice: [10, 40, 25, 50, 60]\n"
          ]
        }
      ]
    },
    {
      "cell_type": "markdown",
      "id": "97b58ed6",
      "metadata": {
        "id": "97b58ed6"
      },
      "source": [
        "### Iterating Over a List"
      ]
    },
    {
      "cell_type": "code",
      "execution_count": null,
      "id": "0c98bc4b",
      "metadata": {
        "colab": {
          "base_uri": "https://localhost:8080/"
        },
        "id": "0c98bc4b",
        "outputId": "0d7ccd54-2a0e-4497-8c7a-bfa7d492c9a7"
      },
      "outputs": [
        {
          "output_type": "stream",
          "name": "stdout",
          "text": [
            "10\n",
            "40\n",
            "25\n",
            "50\n",
            "60\n"
          ]
        }
      ],
      "source": [
        "for item in my_list:\n",
        "    print(item)"
      ]
    },
    {
      "cell_type": "code",
      "source": [
        "for i in range(len(my_list)):\n",
        "  print(my_list[i])"
      ],
      "metadata": {
        "colab": {
          "base_uri": "https://localhost:8080/"
        },
        "id": "fjf6dx8aFlND",
        "outputId": "4cb2431c-fb43-4f65-b5ce-a090e5e0c341"
      },
      "id": "fjf6dx8aFlND",
      "execution_count": null,
      "outputs": [
        {
          "output_type": "stream",
          "name": "stdout",
          "text": [
            "10\n",
            "25\n",
            "50\n",
            "60\n"
          ]
        }
      ]
    },
    {
      "cell_type": "code",
      "source": [
        "for i, item in enumerate(my_list):\n",
        "  print(i,item)"
      ],
      "metadata": {
        "colab": {
          "base_uri": "https://localhost:8080/"
        },
        "id": "f70kng1qF_g8",
        "outputId": "6731da66-959d-44f9-a99b-ae701fd72d5a"
      },
      "id": "f70kng1qF_g8",
      "execution_count": null,
      "outputs": [
        {
          "output_type": "stream",
          "name": "stdout",
          "text": [
            "0 10\n",
            "1 25\n",
            "2 50\n",
            "3 60\n"
          ]
        }
      ]
    },
    {
      "cell_type": "markdown",
      "id": "a8b41af4",
      "metadata": {
        "id": "a8b41af4"
      },
      "source": [
        "### List Length"
      ]
    },
    {
      "cell_type": "code",
      "execution_count": null,
      "id": "0fab6368",
      "metadata": {
        "colab": {
          "base_uri": "https://localhost:8080/"
        },
        "id": "0fab6368",
        "outputId": "f78f8a4b-4c9c-4325-92b4-d4928b0cf439"
      },
      "outputs": [
        {
          "output_type": "stream",
          "name": "stdout",
          "text": [
            "Length: 4\n"
          ]
        }
      ],
      "source": [
        "print(\"Length:\", len(my_list))"
      ]
    },
    {
      "cell_type": "markdown",
      "id": "b4b87823",
      "metadata": {
        "id": "b4b87823"
      },
      "source": [
        "### Sorting a List"
      ]
    },
    {
      "cell_type": "code",
      "execution_count": null,
      "id": "3dc09de3",
      "metadata": {
        "colab": {
          "base_uri": "https://localhost:8080/"
        },
        "id": "3dc09de3",
        "outputId": "af7a5f9d-e3b3-4409-8618-67015c10791f"
      },
      "outputs": [
        {
          "output_type": "stream",
          "name": "stdout",
          "text": [
            "Sorted list: [9, 6, 5, 5, 2, 1]\n"
          ]
        }
      ],
      "source": [
        "numbers = [5, 2, 9, 1, 5, 6]\n",
        "numbers.sort(reverse=True) # defualt=asc, descin= my_list[-1]  or make teh reverse =True\n",
        "print(\"Sorted list:\", numbers)"
      ]
    },
    {
      "cell_type": "markdown",
      "id": "111c9639",
      "metadata": {
        "id": "111c9639"
      },
      "source": [
        "### Reversing a List"
      ]
    },
    {
      "cell_type": "code",
      "execution_count": null,
      "id": "5eb672c9",
      "metadata": {
        "colab": {
          "base_uri": "https://localhost:8080/"
        },
        "id": "5eb672c9",
        "outputId": "4cc38ca6-8fd0-4b34-e477-d5c3215be95d"
      },
      "outputs": [
        {
          "output_type": "stream",
          "name": "stdout",
          "text": [
            "Reversed list: [5, 4, 3, 2, 1]\n"
          ]
        }
      ],
      "source": [
        "numbers=[1,2,3,4,5]\n",
        "numbers.reverse()\n",
        "print(\"Reversed list:\", numbers)"
      ]
    },
    {
      "cell_type": "code",
      "source": [
        "rev=numbers[::-1]\n",
        "print(rev)"
      ],
      "metadata": {
        "colab": {
          "base_uri": "https://localhost:8080/",
          "height": 162
        },
        "id": "Cuk4RY4pG6Qg",
        "outputId": "5f6398fa-7970-4be9-e854-d7a11fa24c97"
      },
      "id": "Cuk4RY4pG6Qg",
      "execution_count": null,
      "outputs": [
        {
          "output_type": "error",
          "ename": "NameError",
          "evalue": "name 'numbers' is not defined",
          "traceback": [
            "\u001b[0;31m---------------------------------------------------------------------------\u001b[0m",
            "\u001b[0;31mNameError\u001b[0m                                 Traceback (most recent call last)",
            "\u001b[0;32m/tmp/ipython-input-1-2046159991.py\u001b[0m in \u001b[0;36m<cell line: 0>\u001b[0;34m()\u001b[0m\n\u001b[0;32m----> 1\u001b[0;31m \u001b[0mrev\u001b[0m\u001b[0;34m=\u001b[0m\u001b[0mnumbers\u001b[0m\u001b[0;34m[\u001b[0m\u001b[0;34m:\u001b[0m\u001b[0;34m:\u001b[0m\u001b[0;34m-\u001b[0m\u001b[0;36m1\u001b[0m\u001b[0;34m]\u001b[0m\u001b[0;34m\u001b[0m\u001b[0;34m\u001b[0m\u001b[0m\n\u001b[0m\u001b[1;32m      2\u001b[0m \u001b[0mprint\u001b[0m\u001b[0;34m(\u001b[0m\u001b[0mrev\u001b[0m\u001b[0;34m)\u001b[0m\u001b[0;34m\u001b[0m\u001b[0;34m\u001b[0m\u001b[0m\n",
            "\u001b[0;31mNameError\u001b[0m: name 'numbers' is not defined"
          ]
        }
      ]
    },
    {
      "cell_type": "markdown",
      "id": "7f751877",
      "metadata": {
        "id": "7f751877"
      },
      "source": [
        "## Why use List?\n",
        "- Lists are flexible and can store any collection of items.\n",
        "- Useful for ordered data that can change.\n",
        "- Lists are used in many algorithms and programs."
      ]
    },
    {
      "cell_type": "code",
      "source": [
        "var=1\n",
        "var_lst=[1,'1']"
      ],
      "metadata": {
        "id": "15bUFt9DJADy"
      },
      "id": "15bUFt9DJADy",
      "execution_count": null,
      "outputs": []
    },
    {
      "cell_type": "markdown",
      "id": "6913899d",
      "metadata": {
        "id": "6913899d"
      },
      "source": [
        "## Exercises"
      ]
    },
    {
      "cell_type": "markdown",
      "id": "bf72937e",
      "metadata": {
        "id": "bf72937e"
      },
      "source": [
        "### 1️⃣ Create a list of 5 favorite fruits"
      ]
    },
    {
      "cell_type": "code",
      "execution_count": null,
      "id": "81c98461",
      "metadata": {
        "id": "81c98461"
      },
      "outputs": [],
      "source": [
        "fav_fruits=[\"apple\",\"banana\",\"avocado\",\"grapes\",\"dates\"]"
      ]
    },
    {
      "cell_type": "markdown",
      "id": "aa33de51",
      "metadata": {
        "id": "aa33de51"
      },
      "source": [
        "### 2️⃣ Add a new fruit to the list"
      ]
    },
    {
      "cell_type": "code",
      "execution_count": null,
      "id": "d44e9fb0",
      "metadata": {
        "id": "d44e9fb0"
      },
      "outputs": [],
      "source": [
        "fav_fruits.append(\"kiwi\")# Your code here"
      ]
    },
    {
      "cell_type": "markdown",
      "id": "00c86a0c",
      "metadata": {
        "id": "00c86a0c"
      },
      "source": [
        "### 3️⃣ Remove a fruit from the list"
      ]
    },
    {
      "cell_type": "code",
      "execution_count": null,
      "id": "fa5da833",
      "metadata": {
        "id": "fa5da833"
      },
      "outputs": [],
      "source": [
        "fav_fruits.remove(\"apple\")# Your code here"
      ]
    },
    {
      "cell_type": "markdown",
      "id": "5ea10e41",
      "metadata": {
        "id": "5ea10e41"
      },
      "source": [
        "### 4️⃣ Insert a fruit at position 2"
      ]
    },
    {
      "cell_type": "code",
      "execution_count": null,
      "id": "5a858bdb",
      "metadata": {
        "id": "5a858bdb"
      },
      "outputs": [],
      "source": [
        "fav_fruits.insert(2, \"grapefruit\")# Your code here"
      ]
    },
    {
      "cell_type": "markdown",
      "id": "5af26411",
      "metadata": {
        "id": "5af26411"
      },
      "source": [
        "### 5️⃣ Print the first and last fruit in the list"
      ]
    },
    {
      "cell_type": "code",
      "execution_count": null,
      "id": "536c17f0",
      "metadata": {
        "id": "536c17f0",
        "colab": {
          "base_uri": "https://localhost:8080/"
        },
        "outputId": "82d8ceb4-e0a5-431f-f13a-1608b6cee741"
      },
      "outputs": [
        {
          "output_type": "stream",
          "name": "stdout",
          "text": [
            "banana kiwi\n"
          ]
        }
      ],
      "source": [
        "print(fav_fruits[0], fav_fruits[-1])# Your code here"
      ]
    },
    {
      "cell_type": "markdown",
      "id": "61a214d0",
      "metadata": {
        "id": "61a214d0"
      },
      "source": [
        "### 6️⃣ Slice the list to get the middle three fruits"
      ]
    },
    {
      "cell_type": "code",
      "execution_count": null,
      "id": "4aa216b1",
      "metadata": {
        "id": "4aa216b1",
        "colab": {
          "base_uri": "https://localhost:8080/"
        },
        "outputId": "4fabe014-e836-4e7b-de29-1670420ac3fe"
      },
      "outputs": [
        {
          "output_type": "stream",
          "name": "stdout",
          "text": [
            "['banana', 'avocado', 'grapefruit', 'grapefruit', 'grapes', 'dates', 'kiwi']\n",
            "['grapefruit', 'grapefruit', 'grapes']\n"
          ]
        }
      ],
      "source": [
        "print(fav_fruits)\n",
        "print(fav_fruits[2:5])"
      ]
    },
    {
      "cell_type": "markdown",
      "id": "e22bc2d4",
      "metadata": {
        "id": "e22bc2d4"
      },
      "source": [
        "### 7️⃣ Sort the list alphabetically"
      ]
    },
    {
      "cell_type": "code",
      "execution_count": null,
      "id": "1d0510fb",
      "metadata": {
        "id": "1d0510fb",
        "colab": {
          "base_uri": "https://localhost:8080/"
        },
        "outputId": "86eb0e0e-c98c-4b57-a85c-8e08e84fadaf"
      },
      "outputs": [
        {
          "output_type": "stream",
          "name": "stdout",
          "text": [
            "['avocado', 'banana', 'dates', 'grapefruit', 'grapefruit', 'grapes', 'kiwi']\n"
          ]
        }
      ],
      "source": [
        "fav_fruits.sort()# Your code here\n",
        "print(fav_fruits)"
      ]
    },
    {
      "cell_type": "markdown",
      "id": "e29d1b2d",
      "metadata": {
        "id": "e29d1b2d"
      },
      "source": [
        "### 8️⃣ Reverse the list"
      ]
    },
    {
      "cell_type": "code",
      "execution_count": null,
      "id": "f4139642",
      "metadata": {
        "id": "f4139642",
        "colab": {
          "base_uri": "https://localhost:8080/"
        },
        "outputId": "65cb098a-92c4-4f97-d9b1-638c97688c06"
      },
      "outputs": [
        {
          "output_type": "stream",
          "name": "stdout",
          "text": [
            "['kiwi', 'grapes', 'grapefruit', 'grapefruit', 'dates', 'banana', 'avocado']\n"
          ]
        }
      ],
      "source": [
        "fav_fruits.sort(reverse=True)\n",
        "print(fav_fruits)# Your code here"
      ]
    },
    {
      "cell_type": "markdown",
      "id": "f320453b",
      "metadata": {
        "id": "f320453b"
      },
      "source": [
        "### 9️⃣ Check if 'apple' is in the list"
      ]
    },
    {
      "cell_type": "code",
      "execution_count": null,
      "id": "4d3562f5",
      "metadata": {
        "id": "4d3562f5",
        "colab": {
          "base_uri": "https://localhost:8080/"
        },
        "outputId": "ed841772-e286-438f-a000-1f462b8e32eb"
      },
      "outputs": [
        {
          "output_type": "stream",
          "name": "stdout",
          "text": [
            "False\n"
          ]
        }
      ],
      "source": [
        "if \"apple\" in fav_fruits:\n",
        "  print(\"True\")\n",
        "else:\n",
        "  print(\"False\")\n",
        "    # Your code here"
      ]
    },
    {
      "cell_type": "markdown",
      "id": "422ca8e1",
      "metadata": {
        "id": "422ca8e1"
      },
      "source": [
        "### 🔟 Clear the list"
      ]
    },
    {
      "cell_type": "code",
      "execution_count": null,
      "id": "3b1d44bb",
      "metadata": {
        "id": "3b1d44bb",
        "colab": {
          "base_uri": "https://localhost:8080/"
        },
        "outputId": "b768f2c1-f956-44f0-9561-31e740160839"
      },
      "outputs": [
        {
          "output_type": "stream",
          "name": "stdout",
          "text": [
            "[]\n"
          ]
        }
      ],
      "source": [
        "fav_fruits.clear()\n",
        "print(fav_fruits)# Your code here"
      ]
    }
  ],
  "metadata": {
    "language_info": {
      "name": "python"
    },
    "colab": {
      "provenance": [],
      "include_colab_link": true
    },
    "kernelspec": {
      "name": "python3",
      "display_name": "Python 3"
    }
  },
  "nbformat": 4,
  "nbformat_minor": 5
}