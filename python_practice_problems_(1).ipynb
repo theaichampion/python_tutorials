{
  "cells": [
    {
      "cell_type": "markdown",
      "metadata": {
        "id": "view-in-github",
        "colab_type": "text"
      },
      "source": [
        "<a href=\"https://colab.research.google.com/github/theaichampion/python_tutorials/blob/new_branch-test/python_practice_problems_(1).ipynb\" target=\"_parent\"><img src=\"https://colab.research.google.com/assets/colab-badge.svg\" alt=\"Open In Colab\"/></a>"
      ]
    },
    {
      "cell_type": "markdown",
      "id": "86189151",
      "metadata": {
        "id": "86189151"
      },
      "source": [
        "# Python Practice Problems"
      ]
    },
    {
      "cell_type": "markdown",
      "id": "6edd1bec",
      "metadata": {
        "id": "6edd1bec"
      },
      "source": [
        "## 1️⃣ Sum of a List\n",
        "\n",
        "Write a function `sum_list(numbers)` that returns the sum of all numbers in a list."
      ]
    },
    {
      "cell_type": "code",
      "execution_count": null,
      "id": "71ae5c45",
      "metadata": {
        "id": "71ae5c45",
        "colab": {
          "base_uri": "https://localhost:8080/"
        },
        "outputId": "ddb08cd2-defe-4a24-e716-5d0614244f9e"
      },
      "outputs": [
        {
          "output_type": "stream",
          "name": "stdout",
          "text": [
            "90\n"
          ]
        }
      ],
      "source": [
        "lst=[10,30,50]\n",
        "# use for loop\n",
        "#total_sum=0\n",
        "def sum_list(numbers):\n",
        "    total_sum =0\n",
        "    for i in range(0,len(numbers)):\n",
        "      total_sum =numbers[i]+total_sum # Your code here\n",
        "    return(total_sum)\n",
        "\n",
        "print(sum_list(lst))"
      ]
    },
    {
      "cell_type": "markdown",
      "id": "cc3eea20",
      "metadata": {
        "id": "cc3eea20"
      },
      "source": [
        "## 2️⃣ Find Maximum\n",
        "\n",
        "Write a function `find_max(numbers)` that returns the largest number in a list."
      ]
    },
    {
      "cell_type": "code",
      "execution_count": null,
      "id": "67476fc3",
      "metadata": {
        "id": "67476fc3",
        "colab": {
          "base_uri": "https://localhost:8080/"
        },
        "outputId": "08a289d6-d87d-486c-a5b2-cc6a4c5ecc2c"
      },
      "outputs": [
        {
          "output_type": "stream",
          "name": "stdout",
          "text": [
            "101\n"
          ]
        }
      ],
      "source": [
        "def find_max(numbers):\n",
        "    #pass  # Your code here\n",
        "    #return max(numbers)\n",
        "    largest_num = numbers[0]\n",
        "    for i in range(0,len(numbers)):\n",
        "      if largest_num < numbers[i]:\n",
        "        largest_num = numbers[i]\n",
        "    return largest_num\n",
        "\n",
        "numbers=[85,9,10,12,13,15,19,19,100,101]\n",
        "print(find_max(numbers))"
      ]
    },
    {
      "cell_type": "markdown",
      "id": "f1f59226",
      "metadata": {
        "id": "f1f59226"
      },
      "source": [
        "## 3️⃣ Count Vowels\n",
        "\n",
        "Write a function `count_vowels(text)` that returns the number of vowels in a given string."
      ]
    },
    {
      "cell_type": "code",
      "execution_count": null,
      "id": "dbf89799",
      "metadata": {
        "id": "dbf89799",
        "colab": {
          "base_uri": "https://localhost:8080/"
        },
        "outputId": "c3614f5a-532c-446d-f9f7-52764e86dc49"
      },
      "outputs": [
        {
          "output_type": "stream",
          "name": "stdout",
          "text": [
            "3\n"
          ]
        }
      ],
      "source": [
        "def count_vowels(text):\n",
        "    vowels = \"aeiouAEIOU\"  # Includes both lowercase and uppercase vowels\n",
        "    vowel_count = 0\n",
        "    for char in text:\n",
        "        if char in vowels:\n",
        "            vowel_count += 1\n",
        "    return vowel_count\n",
        "\n",
        "print(count_vowels('amazing'))"
      ]
    },
    {
      "cell_type": "markdown",
      "id": "b8ee37fb",
      "metadata": {
        "id": "b8ee37fb"
      },
      "source": [
        "## 4️⃣ FizzBuzz\n",
        "\n",
        "Print the numbers from 1 to 50. For multiples of 3, print 'Fizz'; for multiples of 5, print 'Buzz'; for multiples of both, print 'FizzBuzz'."
      ]
    },
    {
      "cell_type": "code",
      "execution_count": null,
      "id": "37e023c1",
      "metadata": {
        "id": "37e023c1",
        "colab": {
          "base_uri": "https://localhost:8080/"
        },
        "outputId": "fda3de3e-ccce-4eba-caa2-a2b5c8f023a4"
      },
      "outputs": [
        {
          "output_type": "stream",
          "name": "stdout",
          "text": [
            "3 Fizz\n",
            "5 Buzz\n",
            "6 Fizz\n",
            "9 Fizz\n",
            "10 Buzz\n",
            "12 Fizz\n",
            "15 FizzBuzz\n",
            "15 Fizz\n",
            "18 Fizz\n",
            "20 Buzz\n",
            "21 Fizz\n",
            "24 Fizz\n",
            "25 Buzz\n",
            "27 Fizz\n",
            "30 FizzBuzz\n",
            "30 Fizz\n",
            "33 Fizz\n",
            "35 Buzz\n",
            "36 Fizz\n",
            "39 Fizz\n",
            "40 Buzz\n",
            "42 Fizz\n",
            "45 FizzBuzz\n",
            "45 Fizz\n",
            "48 Fizz\n",
            "50 Buzz\n"
          ]
        }
      ],
      "source": [
        "for i in range(1, 51):\n",
        "    if i % 3 ==0 and i % 5 == 0:\n",
        "      print(i, 'FizzBuzz')\n",
        "    if i % 3 == 0:\n",
        "      print(i, 'Fizz')\n",
        "    elif i % 5 == 0:\n",
        "      print(i, 'Buzz')\n",
        "\n",
        "\n"
      ]
    },
    {
      "cell_type": "markdown",
      "id": "44b3e152",
      "metadata": {
        "id": "44b3e152"
      },
      "source": [
        "## 5️⃣ Factorial\n",
        "\n",
        "Write a function `factorial(n)` that returns the factorial of `n`."
      ]
    },
    {
      "cell_type": "code",
      "execution_count": null,
      "id": "279eabc4",
      "metadata": {
        "id": "279eabc4",
        "colab": {
          "base_uri": "https://localhost:8080/"
        },
        "outputId": "5066b913-3de2-4b71-9e92-ab367f432056"
      },
      "outputs": [
        {
          "output_type": "stream",
          "name": "stdout",
          "text": [
            "120\n"
          ]
        }
      ],
      "source": [
        "def factorial(n):\n",
        "    result = 1\n",
        "    for i in range(1, n + 1):\n",
        "        result *= i  # Multiply result by the current number\n",
        "    return result\n",
        "\n",
        "print(factorial(5))"
      ]
    },
    {
      "cell_type": "code",
      "source": [
        "g=10\n",
        "def factorial(n):\n",
        "    g=1\n",
        "    print(g)\n",
        "    result = 1\n",
        "    for i in range(1, n + 1):\n",
        "        result *= i  # Multiply result by the current number\n",
        "    return result\n",
        "\n",
        "print(factorial(5))\n",
        "print(g)"
      ],
      "metadata": {
        "colab": {
          "base_uri": "https://localhost:8080/"
        },
        "id": "nfeHYa1Tg6iZ",
        "outputId": "a5e0ab6c-4d16-4082-c35f-11a553682021"
      },
      "id": "nfeHYa1Tg6iZ",
      "execution_count": null,
      "outputs": [
        {
          "output_type": "stream",
          "name": "stdout",
          "text": [
            "1\n",
            "120\n",
            "10\n"
          ]
        }
      ]
    },
    {
      "cell_type": "markdown",
      "id": "a7b45c67",
      "metadata": {
        "id": "a7b45c67"
      },
      "source": [
        "## 6️⃣ Palindrome Checker\n",
        "\n",
        "Write a function `is_palindrome(word)` that returns `True` if `word` is a palindrome, `False` otherwise."
      ]
    },
    {
      "cell_type": "code",
      "execution_count": null,
      "id": "3e1ced4e",
      "metadata": {
        "id": "3e1ced4e",
        "colab": {
          "base_uri": "https://localhost:8080/"
        },
        "outputId": "15a9113b-9b77-4b6d-ca87-8cc9d3c0b1fa"
      },
      "outputs": [
        {
          "output_type": "stream",
          "name": "stdout",
          "text": [
            "False\n"
          ]
        }
      ],
      "source": [
        "def is_palindrome(word):\n",
        "  #  pass  # Your code here\n",
        "  rev_sentence=word[::-1]\n",
        "  if word == rev_sentence:\n",
        "    return True\n",
        "  else:\n",
        "    return False\n",
        "\n",
        "print(is_palindrome(\"racecars\"))"
      ]
    },
    {
      "cell_type": "markdown",
      "id": "cf048616",
      "metadata": {
        "id": "cf048616"
      },
      "source": [
        "## 7️⃣ Unique Elements\n",
        "\n",
        "Write a function `unique_elements(lst)` that returns a new list with only the unique elements of the input list."
      ]
    },
    {
      "cell_type": "code",
      "execution_count": null,
      "id": "8f9799ed",
      "metadata": {
        "id": "8f9799ed"
      },
      "outputs": [],
      "source": [
        "def unique_elements(lst):\n",
        "    pass  # Your code here"
      ]
    },
    {
      "cell_type": "markdown",
      "id": "4aab5a64",
      "metadata": {
        "id": "4aab5a64"
      },
      "source": [
        "## 8️⃣ Fibonacci Sequence\n",
        "\n",
        "Write a function `fibonacci(n)` that returns a list of the first `n` Fibonacci numbers."
      ]
    },
    {
      "cell_type": "code",
      "execution_count": null,
      "id": "f7adf4f8",
      "metadata": {
        "id": "f7adf4f8"
      },
      "outputs": [],
      "source": [
        "def fibonacci(n):\n",
        "    pass  # Your code here"
      ]
    },
    {
      "cell_type": "markdown",
      "id": "4232b001",
      "metadata": {
        "id": "4232b001"
      },
      "source": [
        "## 9️⃣ Reverse a String\n",
        "\n",
        "Write a function `reverse_string(text)` that returns the reversed version of the string."
      ]
    },
    {
      "cell_type": "code",
      "execution_count": null,
      "id": "7bd6e99b",
      "metadata": {
        "id": "7bd6e99b",
        "colab": {
          "base_uri": "https://localhost:8080/"
        },
        "outputId": "1edbdad5-a630-48d9-93da-c0ccd802558a"
      },
      "outputs": [
        {
          "output_type": "stream",
          "name": "stdout",
          "text": [
            "ypoc\n"
          ]
        }
      ],
      "source": [
        "def reverse_string(text):\n",
        "    # return text.reverse() # Incorrect, reverse() is for lists\n",
        "    return text[::-1] # Correct way to reverse a string using slicing\n",
        "\n",
        "print(reverse_string('copy')) # Added parentheses around the argument"
      ]
    },
    {
      "cell_type": "markdown",
      "id": "79602454",
      "metadata": {
        "id": "79602454"
      },
      "source": [
        "## 🔟 Dictionary Merge\n",
        "\n",
        "Given two dictionaries, merge them into one dictionary."
      ]
    },
    {
      "cell_type": "code",
      "execution_count": null,
      "id": "842913a4",
      "metadata": {
        "id": "842913a4",
        "colab": {
          "base_uri": "https://localhost:8080/"
        },
        "outputId": "55eab86f-9623-430e-cce1-d1a4ca5b94f7"
      },
      "outputs": [
        {
          "output_type": "stream",
          "name": "stdout",
          "text": [
            "{'a': 1, 'b': 3, 'c': 4}\n"
          ]
        }
      ],
      "source": [
        "dict1 = {\"a\": 1, \"b\": 2}\n",
        "dict2 = {\"b\": 3, \"c\": 4}\n",
        "\n",
        "\n",
        "#for i in range(len(dict2)):\n",
        "#  dict1.append(dict2[i])\n",
        "dict1.update(dict2)\n",
        "\n",
        "print(dict1)"
      ]
    }
  ],
  "metadata": {
    "colab": {
      "provenance": [],
      "include_colab_link": true
    },
    "language_info": {
      "name": "python"
    },
    "kernelspec": {
      "name": "python3",
      "display_name": "Python 3"
    }
  },
  "nbformat": 4,
  "nbformat_minor": 5
}