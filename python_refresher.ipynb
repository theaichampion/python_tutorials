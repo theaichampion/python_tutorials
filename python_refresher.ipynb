{
  "cells": [
    {
      "cell_type": "markdown",
      "metadata": {
        "id": "view-in-github",
        "colab_type": "text"
      },
      "source": [
        "<a href=\"https://colab.research.google.com/github/theaichampion/python_tutorials/blob/main/python_refresher.ipynb\" target=\"_parent\"><img src=\"https://colab.research.google.com/assets/colab-badge.svg\" alt=\"Open In Colab\"/></a>"
      ]
    },
    {
      "cell_type": "markdown",
      "id": "e3a274f9",
      "metadata": {
        "id": "e3a274f9"
      },
      "source": [
        "# Python Refresher Notebook"
      ]
    },
    {
      "cell_type": "markdown",
      "id": "d3f0c984",
      "metadata": {
        "id": "d3f0c984"
      },
      "source": [
        "## 1. Variables and Data Types"
      ]
    },
    {
      "cell_type": "code",
      "execution_count": null,
      "id": "f179df8a",
      "metadata": {
        "id": "f179df8a"
      },
      "outputs": [],
      "source": [
        "\n",
        "# Integer\n",
        "a = 10\n",
        "print(\"Integer:\", a)\n",
        "\n",
        "# Float\n",
        "b = 3.14\n",
        "print(\"Float:\", b)\n",
        "\n",
        "# String\n",
        "c = \"Hello, Python!\"\n",
        "print(\"String:\", c)\n",
        "\n",
        "# Boolean\n",
        "d = True\n",
        "print(\"Boolean:\", d)\n"
      ]
    },
    {
      "cell_type": "markdown",
      "id": "5c53eccf",
      "metadata": {
        "id": "5c53eccf"
      },
      "source": [
        "## 2. Conditionals (if, elif, else)"
      ]
    },
    {
      "cell_type": "code",
      "execution_count": null,
      "id": "2ab273af",
      "metadata": {
        "colab": {
          "base_uri": "https://localhost:8080/"
        },
        "id": "2ab273af",
        "outputId": "377f702b-d189-4688-bb6c-96b98ec3efbd"
      },
      "outputs": [
        {
          "output_type": "stream",
          "name": "stdout",
          "text": [
            "Between 10 and 20\n"
          ]
        }
      ],
      "source": [
        "\n",
        "x = 15\n",
        "if x < 10:\n",
        "    print(\"Less than 10\")\n",
        "elif x < 20:\n",
        "    print(\"Between 10 and 20\")\n",
        "else:\n",
        "    print(\"20 or more\")\n"
      ]
    },
    {
      "cell_type": "code",
      "source": [
        "x = 9\n",
        "if x < 10:\n",
        "    print(\"Less than 10\")\n",
        "if x < 20:\n",
        "    print(\"Between 10 and 20\")\n",
        "else:\n",
        "    print(\"20 or more\")"
      ],
      "metadata": {
        "colab": {
          "base_uri": "https://localhost:8080/"
        },
        "id": "vXD821s60et7",
        "outputId": "14b1ebff-d257-4b67-fe2d-35c4939557f4"
      },
      "id": "vXD821s60et7",
      "execution_count": null,
      "outputs": [
        {
          "output_type": "stream",
          "name": "stdout",
          "text": [
            "Less than 10\n",
            "Between 10 and 20\n"
          ]
        }
      ]
    },
    {
      "cell_type": "markdown",
      "id": "20fe137d",
      "metadata": {
        "id": "20fe137d"
      },
      "source": [
        "## 3. Loops (for, while)"
      ]
    },
    {
      "cell_type": "code",
      "execution_count": null,
      "id": "96fbb0f0",
      "metadata": {
        "colab": {
          "base_uri": "https://localhost:8080/"
        },
        "id": "96fbb0f0",
        "outputId": "e6761d50-faf2-4ab3-a6c2-cceff1255842"
      },
      "outputs": [
        {
          "output_type": "stream",
          "name": "stdout",
          "text": [
            "For loop iteration: 2\n",
            "For loop iteration: 3\n",
            "For loop iteration: 4\n"
          ]
        }
      ],
      "source": [
        "\n",
        "# For loop   #start, end\n",
        "for i in range(2,5):\n",
        "    print(\"For loop iteration:\", i)\n",
        "\n",
        "\n"
      ]
    },
    {
      "cell_type": "code",
      "source": [
        "# For loop   #start, end, step\n",
        "# loop through odd numbers\n",
        "for i in range(1,5,2):\n",
        "    print(\"For loop iteration:\", i)\n",
        "\n",
        "\n"
      ],
      "metadata": {
        "colab": {
          "base_uri": "https://localhost:8080/"
        },
        "id": "iQSBpG561iNp",
        "outputId": "5da37a4c-c219-4258-d019-a01a1075226c"
      },
      "id": "iQSBpG561iNp",
      "execution_count": null,
      "outputs": [
        {
          "output_type": "stream",
          "name": "stdout",
          "text": [
            "For loop iteration: 1\n",
            "For loop iteration: 3\n"
          ]
        }
      ]
    },
    {
      "cell_type": "code",
      "source": [
        "# For loop   #start, end, step\n",
        "# loop through even numbers\n",
        "for i in range(0,5,2):\n",
        "    print(\"For loop iteration:\", i)\n",
        "\n",
        "\n"
      ],
      "metadata": {
        "colab": {
          "base_uri": "https://localhost:8080/"
        },
        "id": "NCz7b21W108R",
        "outputId": "6b8df72e-d28b-4166-aee3-ff742964a646"
      },
      "id": "NCz7b21W108R",
      "execution_count": null,
      "outputs": [
        {
          "output_type": "stream",
          "name": "stdout",
          "text": [
            "For loop iteration: 0\n",
            "For loop iteration: 2\n",
            "For loop iteration: 4\n"
          ]
        }
      ]
    },
    {
      "cell_type": "code",
      "source": [
        "# While loop\n",
        "count = 0 #start\n",
        "while count < 5: # end, cond\n",
        "    print(\"While loop count:\", count)\n",
        "    count += 1 #step"
      ],
      "metadata": {
        "colab": {
          "base_uri": "https://localhost:8080/"
        },
        "id": "9bi9slo21Drh",
        "outputId": "cb8fa136-2107-4cd7-edb9-2441a9ece7d8"
      },
      "id": "9bi9slo21Drh",
      "execution_count": null,
      "outputs": [
        {
          "output_type": "stream",
          "name": "stdout",
          "text": [
            "While loop count: 0\n",
            "While loop count: 1\n",
            "While loop count: 2\n",
            "While loop count: 3\n",
            "While loop count: 4\n"
          ]
        }
      ]
    },
    {
      "cell_type": "code",
      "source": [
        "# While loop\n",
        "count = 0 #start\n",
        "while count <= 5: # end, cond\n",
        "    print(\"While loop count:\", count)\n",
        "    count += 1 #step"
      ],
      "metadata": {
        "id": "CgW1KmMR2bMY"
      },
      "id": "CgW1KmMR2bMY",
      "execution_count": null,
      "outputs": []
    },
    {
      "cell_type": "code",
      "source": [
        "# While loop\n",
        "count = 0 #start\n",
        "while count > 5: # end, cond\n",
        "    print(\"While loop count:\", count)\n",
        "    count += 1 #step"
      ],
      "metadata": {
        "id": "Vmggn4Ld2dqu"
      },
      "id": "Vmggn4Ld2dqu",
      "execution_count": null,
      "outputs": []
    },
    {
      "cell_type": "markdown",
      "id": "62bfa9e2",
      "metadata": {
        "id": "62bfa9e2"
      },
      "source": [
        "## 4. Functions and Scope"
      ]
    },
    {
      "cell_type": "code",
      "execution_count": null,
      "id": "c4c32fb6",
      "metadata": {
        "colab": {
          "base_uri": "https://localhost:8080/"
        },
        "id": "c4c32fb6",
        "outputId": "65db85cb-14d2-464d-9b9d-986dcd2f5577"
      },
      "outputs": [
        {
          "output_type": "stream",
          "name": "stdout",
          "text": [
            "Hello, Alice!\n"
          ]
        }
      ],
      "source": [
        "\n",
        "def greet(name):\n",
        "    return f\"Hello, {name}!\"\n",
        "\n",
        "print(greet(\"Alice\"))\n",
        "\n",
        "\n"
      ]
    },
    {
      "cell_type": "code",
      "source": [
        "# Scope example\n",
        "def outer():\n",
        "    x = \"outer x\"\n",
        "    def inner():\n",
        "        x = \"inner x\"\n",
        "        print(x)\n",
        "    inner()\n",
        "    print(x)\n",
        "\n",
        "outer()"
      ],
      "metadata": {
        "colab": {
          "base_uri": "https://localhost:8080/"
        },
        "id": "kKBJYdPC2_j3",
        "outputId": "4bb03c35-f1a9-4e32-d901-a390e5e1565d"
      },
      "id": "kKBJYdPC2_j3",
      "execution_count": null,
      "outputs": [
        {
          "output_type": "stream",
          "name": "stdout",
          "text": [
            "inner x\n",
            "outer x\n"
          ]
        }
      ]
    },
    {
      "cell_type": "markdown",
      "id": "945529df",
      "metadata": {
        "id": "945529df"
      },
      "source": [
        "## 5. Practice Exercises"
      ]
    },
    {
      "cell_type": "code",
      "source": [
        "my_age = 49.7\n",
        "print(my_age)"
      ],
      "metadata": {
        "id": "sOQc9o5D60s_",
        "outputId": "edfc9b8b-d47a-4234-80d1-d98aa868fb5a",
        "colab": {
          "base_uri": "https://localhost:8080/"
        }
      },
      "id": "sOQc9o5D60s_",
      "execution_count": null,
      "outputs": [
        {
          "output_type": "stream",
          "name": "stdout",
          "text": [
            "49.7\n"
          ]
        }
      ]
    },
    {
      "cell_type": "code",
      "source": [
        "def is_even(x):\n",
        "  if x%2==0:\n",
        "    return True\n",
        "  else:\n",
        "     return False\n",
        "\n",
        "\n",
        "print(is_even(92))"
      ],
      "metadata": {
        "id": "BftggKTg61k1",
        "outputId": "ad3e7a88-7a40-43a9-db4e-fe42415f1850",
        "colab": {
          "base_uri": "https://localhost:8080/"
        }
      },
      "id": "BftggKTg61k1",
      "execution_count": null,
      "outputs": [
        {
          "output_type": "stream",
          "name": "stdout",
          "text": [
            "True\n"
          ]
        }
      ]
    },
    {
      "cell_type": "code",
      "source": [
        "for i in range(1,11):\n",
        "  print(i)"
      ],
      "metadata": {
        "id": "WHxDelHl64-B",
        "outputId": "45e226e2-c892-44ce-e612-01845b16e9dc",
        "colab": {
          "base_uri": "https://localhost:8080/"
        }
      },
      "id": "WHxDelHl64-B",
      "execution_count": null,
      "outputs": [
        {
          "output_type": "stream",
          "name": "stdout",
          "text": [
            "1\n",
            "2\n",
            "3\n",
            "4\n",
            "5\n",
            "6\n",
            "7\n",
            "8\n",
            "9\n",
            "10\n"
          ]
        }
      ]
    },
    {
      "cell_type": "code",
      "source": [
        "user_input=input(\"enter anything\")\n",
        "while user_input != \"exit\":\n",
        "  user_input=input(\"enter anything\")"
      ],
      "metadata": {
        "id": "dPaBct3T67w8",
        "outputId": "6256f42a-f282-450a-f912-fab147278198",
        "colab": {
          "base_uri": "https://localhost:8080/"
        }
      },
      "id": "dPaBct3T67w8",
      "execution_count": null,
      "outputs": [
        {
          "name": "stdout",
          "output_type": "stream",
          "text": [
            "enter anythingchicago\n",
            "enter anythingexit\n"
          ]
        }
      ]
    },
    {
      "cell_type": "markdown",
      "id": "95eb5e19",
      "metadata": {
        "id": "95eb5e19"
      },
      "source": [
        "\n",
        "\n",
        "---\n",
        "\n",
        "\n",
        "1. Create a variable `my_age` and set it to your age. decimal\n",
        "2. Write a function `is_even(number)` that returns `True` if a number is even, `False` otherwise.\n",
        "3. Write a for loop to print numbers 1 through 10.\n",
        "4. Write a while loop that keeps asking the user for input until they type 'exit'.\n"
      ]
    },
    {
      "cell_type": "code",
      "source": [],
      "metadata": {
        "id": "Z8vnMeVX3nv1"
      },
      "id": "Z8vnMeVX3nv1",
      "execution_count": null,
      "outputs": []
    }
  ],
  "metadata": {
    "colab": {
      "provenance": [],
      "collapsed_sections": [
        "5c53eccf",
        "20fe137d",
        "62bfa9e2"
      ],
      "include_colab_link": true
    },
    "language_info": {
      "name": "python"
    },
    "kernelspec": {
      "name": "python3",
      "display_name": "Python 3"
    }
  },
  "nbformat": 4,
  "nbformat_minor": 5
}