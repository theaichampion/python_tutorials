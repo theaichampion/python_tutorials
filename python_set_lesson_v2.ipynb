{
  "cells": [
    {
      "cell_type": "markdown",
      "metadata": {
        "id": "view-in-github",
        "colab_type": "text"
      },
      "source": [
        "<a href=\"https://colab.research.google.com/github/theaichampion/python_tutorials/blob/main/python_set_lesson_v2.ipynb\" target=\"_parent\"><img src=\"https://colab.research.google.com/assets/colab-badge.svg\" alt=\"Open In Colab\"/></a>"
      ]
    },
    {
      "cell_type": "markdown",
      "id": "2670497c",
      "metadata": {
        "id": "2670497c"
      },
      "source": [
        "# Python Lesson: Set\n",
        "\n",
        "In this lesson, you'll learn:\n",
        "\n",
        "- What is a Set?\n",
        "- How to create and modify a Set\n",
        "- Useful Set operations\n",
        "- Practice Exercises"
      ]
    },
    {
      "cell_type": "markdown",
      "id": "c2988501",
      "metadata": {
        "id": "c2988501"
      },
      "source": [
        "## What is a Set?\n",
        "- A set is an unordered collection of unique elements.\n",
        "- Sets do not allow duplicates.\n",
        "- Sets are mutable (you can add or remove elements).\n",
        "- Sets are useful for operations like union, intersection, difference."
      ]
    },
    {
      "cell_type": "markdown",
      "id": "00f236fb",
      "metadata": {
        "id": "00f236fb"
      },
      "source": [
        "### Creating a Set"
      ]
    },
    {
      "cell_type": "code",
      "execution_count": null,
      "id": "3be5c0c7",
      "metadata": {
        "colab": {
          "base_uri": "https://localhost:8080/"
        },
        "id": "3be5c0c7",
        "outputId": "feec90fd-6572-4c86-c132-a2c7d4758e0a"
      },
      "outputs": [
        {
          "output_type": "stream",
          "name": "stdout",
          "text": [
            "my_set: {1, 2, 3, 4, 5}\n"
          ]
        }
      ],
      "source": [
        "my_set = {1, 2, 1, 3, 4, 5}\n",
        "print(\"my_set:\", my_set)"
      ]
    },
    {
      "cell_type": "code",
      "source": [
        "my_set = {1, 2, -1, 3, 4, 5}\n",
        "print(\"my_set:\", my_set)"
      ],
      "metadata": {
        "colab": {
          "base_uri": "https://localhost:8080/"
        },
        "id": "erERRQ49i9Aj",
        "outputId": "8dadff87-460b-4255-d239-8dfb1e932172"
      },
      "id": "erERRQ49i9Aj",
      "execution_count": null,
      "outputs": [
        {
          "output_type": "stream",
          "name": "stdout",
          "text": [
            "my_set: {1, 2, 3, 4, 5, -1}\n"
          ]
        }
      ]
    },
    {
      "cell_type": "code",
      "source": [
        "my_set = {1, 2, -1, 3, 4, 5, 'a'}\n",
        "print(\"my_set:\", my_set)"
      ],
      "metadata": {
        "colab": {
          "base_uri": "https://localhost:8080/"
        },
        "id": "DCrfUaYSjJHE",
        "outputId": "abe81a4e-7f52-49b3-a1be-4d9be4409b88"
      },
      "id": "DCrfUaYSjJHE",
      "execution_count": null,
      "outputs": [
        {
          "output_type": "stream",
          "name": "stdout",
          "text": [
            "my_set: {1, 2, 3, 4, 5, 'a', -1}\n"
          ]
        }
      ]
    },
    {
      "cell_type": "code",
      "source": [
        "my_set = {1, 2, -1, 3, True, 5}\n",
        "print(\"my_set:\", my_set)"
      ],
      "metadata": {
        "colab": {
          "base_uri": "https://localhost:8080/"
        },
        "id": "XObVLCz4jXOz",
        "outputId": "6603160a-2ce1-4ea9-e553-6cc1b2e05951"
      },
      "id": "XObVLCz4jXOz",
      "execution_count": null,
      "outputs": [
        {
          "output_type": "stream",
          "name": "stdout",
          "text": [
            "my_set: {1, 2, 3, 5, -1}\n"
          ]
        }
      ]
    },
    {
      "cell_type": "code",
      "source": [
        "my_set = {1, 2, -1, 3, 4, 5, False, 0}\n",
        "print(\"my_set:\", my_set)"
      ],
      "metadata": {
        "colab": {
          "base_uri": "https://localhost:8080/"
        },
        "id": "cf4Gqyl5jjgw",
        "outputId": "05c22e0c-12b8-45e4-8fd5-b90718d5c1de"
      },
      "id": "cf4Gqyl5jjgw",
      "execution_count": null,
      "outputs": [
        {
          "output_type": "stream",
          "name": "stdout",
          "text": [
            "my_set: {False, 1, 2, 3, 4, 5, -1}\n"
          ]
        }
      ]
    },
    {
      "cell_type": "markdown",
      "id": "ee7a2263",
      "metadata": {
        "id": "ee7a2263"
      },
      "source": [
        "### Creating a Set from a List (removes duplicates automatically)"
      ]
    },
    {
      "cell_type": "code",
      "execution_count": null,
      "id": "de8aec12",
      "metadata": {
        "colab": {
          "base_uri": "https://localhost:8080/"
        },
        "id": "de8aec12",
        "outputId": "9400fde5-1744-4e79-9866-cb749d496263"
      },
      "outputs": [
        {
          "output_type": "stream",
          "name": "stdout",
          "text": [
            "my_set_from_list: {1, 2, 3, 4, 5}\n"
          ]
        }
      ],
      "source": [
        "my_list = [1, 2, 2, 3, 4, 4, 5]\n",
        "my_set_from_list = set(my_list)\n",
        "print(\"my_set_from_list:\", my_set_from_list)"
      ]
    },
    {
      "cell_type": "markdown",
      "id": "9235d49a",
      "metadata": {
        "id": "9235d49a"
      },
      "source": [
        "### Adding elements to a Set"
      ]
    },
    {
      "cell_type": "code",
      "execution_count": null,
      "id": "c4ba1a8e",
      "metadata": {
        "colab": {
          "base_uri": "https://localhost:8080/"
        },
        "id": "c4ba1a8e",
        "outputId": "ffb27169-6285-4225-8bb9-23336ddda8ea"
      },
      "outputs": [
        {
          "output_type": "stream",
          "name": "stdout",
          "text": [
            "After adding 6: {False, 1, 2, 3, 4, 5, 6, -1}\n"
          ]
        }
      ],
      "source": [
        "my_set.add(6)\n",
        "print(\"After adding 6:\", my_set)"
      ]
    },
    {
      "cell_type": "markdown",
      "id": "6112018c",
      "metadata": {
        "id": "6112018c"
      },
      "source": [
        "### Removing elements from a Set"
      ]
    },
    {
      "cell_type": "code",
      "execution_count": null,
      "id": "5a7ef5fb",
      "metadata": {
        "id": "5a7ef5fb"
      },
      "outputs": [],
      "source": [
        "my_set.remove(3)\n",
        "print(\"After removing 3:\", my_set)"
      ]
    },
    {
      "cell_type": "code",
      "source": [
        "# str , set, list, dict, tuple are sequance str.   dict.\n",
        "# var.type() => type(var)"
      ],
      "metadata": {
        "id": "XwnO0yPFkG_S"
      },
      "id": "XwnO0yPFkG_S",
      "execution_count": null,
      "outputs": []
    },
    {
      "cell_type": "markdown",
      "id": "97a183a9",
      "metadata": {
        "id": "97a183a9"
      },
      "source": [
        "### Discarding elements (no error if element not found)"
      ]
    },
    {
      "cell_type": "code",
      "execution_count": null,
      "id": "d1cb07b7",
      "metadata": {
        "id": "d1cb07b7"
      },
      "outputs": [],
      "source": [
        "my_set.discard(10)  # No error"
      ]
    },
    {
      "cell_type": "code",
      "source": [
        "my_set.remove(10)\n",
        "print(\"After removing 3:\", my_set)"
      ],
      "metadata": {
        "colab": {
          "base_uri": "https://localhost:8080/",
          "height": 159
        },
        "id": "XdrQ1XbrkihL",
        "outputId": "2c94bf93-8e35-4c69-8933-6da3707aa6a3"
      },
      "id": "XdrQ1XbrkihL",
      "execution_count": null,
      "outputs": [
        {
          "output_type": "error",
          "ename": "KeyError",
          "evalue": "10",
          "traceback": [
            "\u001b[0;31m---------------------------------------------------------------------------\u001b[0m",
            "\u001b[0;31mKeyError\u001b[0m                                  Traceback (most recent call last)",
            "\u001b[0;32m/tmp/ipython-input-12-2405483590.py\u001b[0m in \u001b[0;36m<cell line: 0>\u001b[0;34m()\u001b[0m\n\u001b[0;32m----> 1\u001b[0;31m \u001b[0mmy_set\u001b[0m\u001b[0;34m.\u001b[0m\u001b[0mremove\u001b[0m\u001b[0;34m(\u001b[0m\u001b[0;36m10\u001b[0m\u001b[0;34m)\u001b[0m\u001b[0;34m\u001b[0m\u001b[0;34m\u001b[0m\u001b[0m\n\u001b[0m\u001b[1;32m      2\u001b[0m \u001b[0mprint\u001b[0m\u001b[0;34m(\u001b[0m\u001b[0;34m\"After removing 3:\"\u001b[0m\u001b[0;34m,\u001b[0m \u001b[0mmy_set\u001b[0m\u001b[0;34m)\u001b[0m\u001b[0;34m\u001b[0m\u001b[0;34m\u001b[0m\u001b[0m\n",
            "\u001b[0;31mKeyError\u001b[0m: 10"
          ]
        }
      ]
    },
    {
      "cell_type": "markdown",
      "id": "3db37db1",
      "metadata": {
        "id": "3db37db1"
      },
      "source": [
        "### Clearing a Set"
      ]
    },
    {
      "cell_type": "code",
      "execution_count": null,
      "id": "3ff28795",
      "metadata": {
        "id": "3ff28795"
      },
      "outputs": [],
      "source": [
        "empty_set = set()\n",
        "empty_set.add(1)\n",
        "empty_set.clear()\n",
        "print(\"empty_set after clear:\", empty_set)"
      ]
    },
    {
      "cell_type": "markdown",
      "id": "6d8bb667",
      "metadata": {
        "id": "6d8bb667"
      },
      "source": [
        "## Set Operations"
      ]
    },
    {
      "cell_type": "markdown",
      "id": "5a924590",
      "metadata": {
        "id": "5a924590"
      },
      "source": [
        "### Union"
      ]
    },
    {
      "cell_type": "code",
      "execution_count": null,
      "id": "7da24bdf",
      "metadata": {
        "colab": {
          "base_uri": "https://localhost:8080/"
        },
        "id": "7da24bdf",
        "outputId": "1b09b519-66cb-4b1a-de75-ba24c0dad6d9"
      },
      "outputs": [
        {
          "output_type": "stream",
          "name": "stdout",
          "text": [
            "Union: {1, 2, 3, 4, 5, 6}\n"
          ]
        }
      ],
      "source": [
        "set_a = {1, 2, 3, 4}\n",
        "set_b = {3, 4, 5, 6}\n",
        "print(\"Union:\", set_a.union(set_b))"
      ]
    },
    {
      "cell_type": "markdown",
      "id": "a0860356",
      "metadata": {
        "id": "a0860356"
      },
      "source": [
        "### Intersection"
      ]
    },
    {
      "cell_type": "code",
      "execution_count": null,
      "id": "dd32e350",
      "metadata": {
        "colab": {
          "base_uri": "https://localhost:8080/"
        },
        "id": "dd32e350",
        "outputId": "e987a341-6109-48a3-d993-0e40fe8f5cea"
      },
      "outputs": [
        {
          "output_type": "stream",
          "name": "stdout",
          "text": [
            "Intersection: {3, 4}\n"
          ]
        }
      ],
      "source": [
        "print(\"Intersection:\", set_a.intersection(set_b))"
      ]
    },
    {
      "cell_type": "markdown",
      "id": "1c49a0c1",
      "metadata": {
        "id": "1c49a0c1"
      },
      "source": [
        "### Difference (A - B)"
      ]
    },
    {
      "cell_type": "code",
      "execution_count": null,
      "id": "52883efe",
      "metadata": {
        "colab": {
          "base_uri": "https://localhost:8080/"
        },
        "id": "52883efe",
        "outputId": "8a11cb6b-898c-477a-81a1-ee4fb58d1247"
      },
      "outputs": [
        {
          "output_type": "stream",
          "name": "stdout",
          "text": [
            "Difference (A - B): {1, 2}\n"
          ]
        }
      ],
      "source": [
        "print(\"Difference (A - B):\", set_a.difference(set_b))"
      ]
    },
    {
      "cell_type": "markdown",
      "id": "66e5794d",
      "metadata": {
        "id": "66e5794d"
      },
      "source": [
        "### Symmetric Difference"
      ]
    },
    {
      "cell_type": "code",
      "execution_count": null,
      "id": "d7bd598b",
      "metadata": {
        "colab": {
          "base_uri": "https://localhost:8080/"
        },
        "id": "d7bd598b",
        "outputId": "7096a15f-a90a-4b7e-991e-20d46bcaad10"
      },
      "outputs": [
        {
          "output_type": "stream",
          "name": "stdout",
          "text": [
            "Symmetric Difference: {1, 2, 5, 6}\n"
          ]
        }
      ],
      "source": [
        "print(\"Symmetric Difference:\", set_a.symmetric_difference(set_b))"
      ]
    },
    {
      "cell_type": "markdown",
      "id": "778ab21c",
      "metadata": {
        "id": "778ab21c"
      },
      "source": [
        "### Checking Membership"
      ]
    },
    {
      "cell_type": "code",
      "execution_count": null,
      "id": "82eebfe4",
      "metadata": {
        "colab": {
          "base_uri": "https://localhost:8080/"
        },
        "id": "82eebfe4",
        "outputId": "f00336bf-00bc-476e-9fa6-df448ebd5a66"
      },
      "outputs": [
        {
          "output_type": "stream",
          "name": "stdout",
          "text": [
            "Is 2 in set_a? True\n",
            "Is 5 in set_a? False\n"
          ]
        }
      ],
      "source": [
        "print(\"Is 2 in set_a?\", 2 in set_a)\n",
        "print(\"Is 5 in set_a?\", 5 in set_a)"
      ]
    },
    {
      "cell_type": "markdown",
      "id": "7763dbd1",
      "metadata": {
        "id": "7763dbd1"
      },
      "source": [
        "## Exercises"
      ]
    },
    {
      "cell_type": "markdown",
      "id": "a97bdd3b",
      "metadata": {
        "id": "a97bdd3b"
      },
      "source": [
        "### 1️⃣ Create a set with at least 5 numbers"
      ]
    },
    {
      "cell_type": "code",
      "execution_count": null,
      "id": "2696aa91",
      "metadata": {
        "id": "2696aa91"
      },
      "outputs": [],
      "source": [
        "# Your code here\n",
        "my_set={1,2,3,4,5}"
      ]
    },
    {
      "cell_type": "markdown",
      "id": "a7aefcde",
      "metadata": {
        "id": "a7aefcde"
      },
      "source": [
        "### 2️⃣ Add a new number to the set"
      ]
    },
    {
      "cell_type": "code",
      "execution_count": null,
      "id": "c02257c1",
      "metadata": {
        "id": "c02257c1"
      },
      "outputs": [],
      "source": [
        "# Your code here\n",
        "my_set.add(6)"
      ]
    },
    {
      "cell_type": "markdown",
      "id": "e3bd7a5f",
      "metadata": {
        "id": "e3bd7a5f"
      },
      "source": [
        "### 3️⃣ Remove a number from the set"
      ]
    },
    {
      "cell_type": "code",
      "execution_count": null,
      "id": "4cba77e3",
      "metadata": {
        "id": "4cba77e3"
      },
      "outputs": [],
      "source": [
        "# Your code here\n",
        "my_set.remove(4)"
      ]
    },
    {
      "cell_type": "markdown",
      "id": "3ec3af52",
      "metadata": {
        "id": "3ec3af52"
      },
      "source": [
        "### 4️⃣ Create two sets of numbers and print their union"
      ]
    },
    {
      "cell_type": "code",
      "execution_count": null,
      "id": "b85a4eff",
      "metadata": {
        "id": "b85a4eff",
        "colab": {
          "base_uri": "https://localhost:8080/"
        },
        "outputId": "4ee1de09-c93d-4e6e-c32f-ff3aa1e0475c"
      },
      "outputs": [
        {
          "output_type": "stream",
          "name": "stdout",
          "text": [
            "Union: {1, 2, 3, 5, 6, 7, 8, 9, 10, 11}\n"
          ]
        }
      ],
      "source": [
        "# Your code here\n",
        "my_set1 = {1,2,3,5,6}\n",
        "my_set2 = {7,8,9,10,11}\n",
        "print(\"Union:\", my_set1.union(my_set2))"
      ]
    },
    {
      "cell_type": "markdown",
      "id": "9ee47a7b",
      "metadata": {
        "id": "9ee47a7b"
      },
      "source": [
        "### 5️⃣ Create two sets of numbers and print their intersection"
      ]
    },
    {
      "cell_type": "code",
      "execution_count": null,
      "id": "4f7e313a",
      "metadata": {
        "id": "4f7e313a",
        "colab": {
          "base_uri": "https://localhost:8080/"
        },
        "outputId": "339537de-6018-4b61-c26e-98df3187bbb5"
      },
      "outputs": [
        {
          "output_type": "stream",
          "name": "stdout",
          "text": [
            "Intersection: {7}\n"
          ]
        }
      ],
      "source": [
        "# Your code here\n",
        "my_set3 = {1,2,3,5,6,7}\n",
        "my_set4 = {7,8,9,10,11}\n",
        "\n",
        "print(\"Intersection:\", my_set3.intersection(my_set4))"
      ]
    },
    {
      "cell_type": "markdown",
      "id": "1ef90617",
      "metadata": {
        "id": "1ef90617"
      },
      "source": [
        "### 6️⃣ Create two sets of numbers and print their difference"
      ]
    },
    {
      "cell_type": "code",
      "execution_count": null,
      "id": "49fdb02e",
      "metadata": {
        "id": "49fdb02e",
        "colab": {
          "base_uri": "https://localhost:8080/"
        },
        "outputId": "ee408927-7e20-4956-9114-5dd1c7bdeb5c"
      },
      "outputs": [
        {
          "output_type": "stream",
          "name": "stdout",
          "text": [
            "Difference (my_set3- myset4): {1, 2, 3, 5, 6}\n"
          ]
        }
      ],
      "source": [
        "# Your code here\n",
        "my_set3 = {1,2,3,5,6,7}\n",
        "my_set4 = {7,8,9,10,11}\n",
        "\n",
        "print(\"Difference (my_set3- myset4):\", my_set3.difference(my_set4))"
      ]
    },
    {
      "cell_type": "markdown",
      "id": "5ade129d",
      "metadata": {
        "id": "5ade129d"
      },
      "source": [
        "### 7️⃣ Create two sets of numbers and print their symmetric difference"
      ]
    },
    {
      "cell_type": "code",
      "execution_count": null,
      "id": "982f8647",
      "metadata": {
        "id": "982f8647",
        "colab": {
          "base_uri": "https://localhost:8080/"
        },
        "outputId": "ccf5e3b3-86a0-4257-f0ac-e6dcb89eb055"
      },
      "outputs": [
        {
          "output_type": "stream",
          "name": "stdout",
          "text": [
            "Symmetric Difference: {1, 2, 3, 5, 6, 8, 9, 10, 11}\n"
          ]
        }
      ],
      "source": [
        "# Your code here\n",
        "\n",
        "my_set3 = {1,2,3,5,6,7}\n",
        "my_set4 = {7,8,9,10,11}\n",
        "\n",
        "print(\"Symmetric Difference:\", my_set3.symmetric_difference(my_set4))\n"
      ]
    },
    {
      "cell_type": "markdown",
      "id": "72118c23",
      "metadata": {
        "id": "72118c23"
      },
      "source": [
        "### 8️⃣ Check if a specific number exists in the set"
      ]
    },
    {
      "cell_type": "code",
      "execution_count": null,
      "id": "0ccdb29d",
      "metadata": {
        "id": "0ccdb29d",
        "colab": {
          "base_uri": "https://localhost:8080/"
        },
        "outputId": "38709873-4267-4562-df95-611d6ef7c149"
      },
      "outputs": [
        {
          "output_type": "stream",
          "name": "stdout",
          "text": [
            "Is 2 in set_a? True\n"
          ]
        }
      ],
      "source": [
        "# Your code here\n",
        "my_set3 = {1,2,3,5,6,7}\n",
        "\n",
        "print(\"Is 2 in set_a?\", 2 in my_set3)"
      ]
    },
    {
      "cell_type": "markdown",
      "id": "eaefef6a",
      "metadata": {
        "id": "eaefef6a"
      },
      "source": [
        "### 9️⃣ Convert a list with duplicate numbers to a set and print it"
      ]
    },
    {
      "cell_type": "code",
      "execution_count": null,
      "id": "31b29c9c",
      "metadata": {
        "id": "31b29c9c",
        "colab": {
          "base_uri": "https://localhost:8080/"
        },
        "outputId": "bda5bd63-a005-40af-d45e-b1bfe2bfec97"
      },
      "outputs": [
        {
          "output_type": "stream",
          "name": "stdout",
          "text": [
            "[1, 2, 3, 3, 4, 5]\n",
            "{1, 2, 3, 4, 5}\n"
          ]
        }
      ],
      "source": [
        "# Your code here\n",
        "\n",
        "my_list = [1,2,3,3,4,5]\n",
        "print(my_list)\n",
        "print(set(my_list))"
      ]
    },
    {
      "cell_type": "markdown",
      "id": "b62a4d01",
      "metadata": {
        "id": "b62a4d01"
      },
      "source": [
        "### 🔟 Clear all elements from a set and print it"
      ]
    },
    {
      "cell_type": "code",
      "execution_count": null,
      "id": "4f0a17d8",
      "metadata": {
        "id": "4f0a17d8",
        "colab": {
          "base_uri": "https://localhost:8080/"
        },
        "outputId": "6e2e763d-b4a9-40ac-b0a9-18f345330838"
      },
      "outputs": [
        {
          "output_type": "stream",
          "name": "stdout",
          "text": [
            "set()\n"
          ]
        }
      ],
      "source": [
        "# Your code here\n",
        "my_set.clear()\n",
        "print(my_set)"
      ]
    }
  ],
  "metadata": {
    "language_info": {
      "name": "python"
    },
    "colab": {
      "provenance": [],
      "include_colab_link": true
    },
    "kernelspec": {
      "name": "python3",
      "display_name": "Python 3"
    }
  },
  "nbformat": 4,
  "nbformat_minor": 5
}