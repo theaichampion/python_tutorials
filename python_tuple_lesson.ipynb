{
  "cells": [
    {
      "cell_type": "markdown",
      "metadata": {
        "id": "view-in-github",
        "colab_type": "text"
      },
      "source": [
        "<a href=\"https://colab.research.google.com/github/theaichampion/python_tutorials/blob/main/python_tuple_lesson.ipynb\" target=\"_parent\"><img src=\"https://colab.research.google.com/assets/colab-badge.svg\" alt=\"Open In Colab\"/></a>"
      ]
    },
    {
      "cell_type": "markdown",
      "id": "99415034",
      "metadata": {
        "id": "99415034"
      },
      "source": [
        "# Python Lesson: Tuple\n",
        "\n",
        "In this lesson, you'll learn:\n",
        "\n",
        "- What is a Tuple?\n",
        "- How to create and use a Tuple\n",
        "- Tuple operations\n",
        "- Practice Exercises"
      ]
    },
    {
      "cell_type": "markdown",
      "id": "9ee276e0",
      "metadata": {
        "id": "9ee276e0"
      },
      "source": [
        "## What is a Tuple?\n",
        "- A tuple is an **ordered** collection of elements.\n",
        "- Tuples are **immutable** (cannot be changed after creation).\n",
        "- Tuples can contain **duplicates**.\n",
        "- Useful when you need a fixed collection of items."
      ]
    },
    {
      "cell_type": "markdown",
      "id": "380eb779",
      "metadata": {
        "id": "380eb779"
      },
      "source": [
        "### Creating a Tuple"
      ]
    },
    {
      "cell_type": "code",
      "execution_count": null,
      "id": "40e72ea1",
      "metadata": {
        "colab": {
          "base_uri": "https://localhost:8080/"
        },
        "id": "40e72ea1",
        "outputId": "c4085009-a91a-4897-8a4b-8093bcc7797b"
      },
      "outputs": [
        {
          "output_type": "stream",
          "name": "stdout",
          "text": [
            "my_tuple: (1, 2, 3, 'a', 4, 5)\n"
          ]
        }
      ],
      "source": [
        "my_tuple = (1, 2, 3,'a', 4, 5)\n",
        "print(\"my_tuple:\", my_tuple)"
      ]
    },
    {
      "cell_type": "markdown",
      "id": "156d0872",
      "metadata": {
        "id": "156d0872"
      },
      "source": [
        "### Accessing Tuple Elements"
      ]
    },
    {
      "cell_type": "code",
      "execution_count": null,
      "id": "58d09105",
      "metadata": {
        "colab": {
          "base_uri": "https://localhost:8080/"
        },
        "id": "58d09105",
        "outputId": "f6998d95-5354-4bdb-e613-e5b73d678c3e"
      },
      "outputs": [
        {
          "output_type": "stream",
          "name": "stdout",
          "text": [
            "First element: 1\n",
            "Last element: 5\n"
          ]
        }
      ],
      "source": [
        "print(\"First element:\", my_tuple[0])\n",
        "print(\"Last element:\", my_tuple[-1])"
      ]
    },
    {
      "cell_type": "markdown",
      "id": "ac14c7e6",
      "metadata": {
        "id": "ac14c7e6"
      },
      "source": [
        "### Tuple with Different Data Types"
      ]
    },
    {
      "cell_type": "code",
      "execution_count": null,
      "id": "a03a7e6d",
      "metadata": {
        "colab": {
          "base_uri": "https://localhost:8080/"
        },
        "id": "a03a7e6d",
        "outputId": "ba00546c-a40e-4793-b9b5-81e99bff7a65"
      },
      "outputs": [
        {
          "output_type": "stream",
          "name": "stdout",
          "text": [
            "mixed_tuple: (1, 'apple', 3.14, True)\n"
          ]
        }
      ],
      "source": [
        "mixed_tuple = (1, \"apple\", 3.14, True)\n",
        "print(\"mixed_tuple:\", mixed_tuple)"
      ]
    },
    {
      "cell_type": "markdown",
      "id": "699220ff",
      "metadata": {
        "id": "699220ff"
      },
      "source": [
        "### Tuple Unpacking"
      ]
    },
    {
      "cell_type": "code",
      "execution_count": null,
      "id": "3836f893",
      "metadata": {
        "colab": {
          "base_uri": "https://localhost:8080/"
        },
        "id": "3836f893",
        "outputId": "1154f6a1-b835-4472-d204-48ae19cb9d5c"
      },
      "outputs": [
        {
          "output_type": "stream",
          "name": "stdout",
          "text": [
            "10\n",
            "20\n",
            "30\n"
          ]
        }
      ],
      "source": [
        "a, b, c = (10, 20, 30)\n",
        "print(a)\n",
        "print(b)\n",
        "print(c)"
      ]
    },
    {
      "cell_type": "code",
      "source": [
        "a, b, c = [10, 20, 30]\n",
        "print(a)\n",
        "print(b)\n",
        "print(c)"
      ],
      "metadata": {
        "colab": {
          "base_uri": "https://localhost:8080/"
        },
        "id": "a0BuS19ltvYZ",
        "outputId": "7a98b373-0198-49fd-c0fe-4140abc9d62e"
      },
      "id": "a0BuS19ltvYZ",
      "execution_count": null,
      "outputs": [
        {
          "output_type": "stream",
          "name": "stdout",
          "text": [
            "10\n",
            "20\n",
            "30\n"
          ]
        }
      ]
    },
    {
      "cell_type": "code",
      "source": [
        "a, b, c = {100, 20, 3} # set not dict\n",
        "print(a)\n",
        "print(b)\n",
        "print(c)"
      ],
      "metadata": {
        "colab": {
          "base_uri": "https://localhost:8080/"
        },
        "id": "UfyrU7V9tvNC",
        "outputId": "4264ee23-fb1b-41ce-c4ac-9d7e6154b366"
      },
      "id": "UfyrU7V9tvNC",
      "execution_count": null,
      "outputs": [
        {
          "output_type": "stream",
          "name": "stdout",
          "text": [
            "3\n",
            "100\n",
            "20\n"
          ]
        }
      ]
    },
    {
      "cell_type": "code",
      "source": [],
      "metadata": {
        "id": "ktXJfLhNuYCj"
      },
      "id": "ktXJfLhNuYCj",
      "execution_count": null,
      "outputs": []
    },
    {
      "cell_type": "markdown",
      "id": "46ff71bb",
      "metadata": {
        "id": "46ff71bb"
      },
      "source": [
        "### Tuple Length"
      ]
    },
    {
      "cell_type": "code",
      "execution_count": null,
      "id": "b9214ba7",
      "metadata": {
        "colab": {
          "base_uri": "https://localhost:8080/"
        },
        "id": "b9214ba7",
        "outputId": "5d48f3eb-1de8-4552-9f06-9206536b1f83"
      },
      "outputs": [
        {
          "output_type": "stream",
          "name": "stdout",
          "text": [
            "Length of my_tuple: 6\n"
          ]
        }
      ],
      "source": [
        "print(\"Length of my_tuple:\", len(my_tuple))"
      ]
    },
    {
      "cell_type": "markdown",
      "id": "a2072e9a",
      "metadata": {
        "id": "a2072e9a"
      },
      "source": [
        "### Tuple Slicing"
      ]
    },
    {
      "cell_type": "code",
      "execution_count": null,
      "id": "046debd6",
      "metadata": {
        "id": "046debd6"
      },
      "outputs": [],
      "source": [
        "print(\"Slice of my_tuple:\", my_tuple[1:4]) # indexing"
      ]
    },
    {
      "cell_type": "code",
      "source": [
        "# tupl=(1, 2, ) , functions"
      ],
      "metadata": {
        "id": "W5UiFBttu5H0"
      },
      "id": "W5UiFBttu5H0",
      "execution_count": null,
      "outputs": []
    },
    {
      "cell_type": "code",
      "source": [
        "# {} used for set , dict, f-string"
      ],
      "metadata": {
        "id": "mWxAWtWPvM2c"
      },
      "id": "mWxAWtWPvM2c",
      "execution_count": null,
      "outputs": []
    },
    {
      "cell_type": "code",
      "source": [
        "# f\"print {name}\""
      ],
      "metadata": {
        "id": "FoQ05BCxvXWh"
      },
      "id": "FoQ05BCxvXWh",
      "execution_count": null,
      "outputs": []
    },
    {
      "cell_type": "markdown",
      "id": "26e3b35e",
      "metadata": {
        "id": "26e3b35e"
      },
      "source": [
        "### Nested Tuple"
      ]
    },
    {
      "cell_type": "code",
      "execution_count": null,
      "id": "40987635",
      "metadata": {
        "colab": {
          "base_uri": "https://localhost:8080/"
        },
        "id": "40987635",
        "outputId": "2b588cd4-eb74-40be-cc9c-a63bd3345056"
      },
      "outputs": [
        {
          "output_type": "stream",
          "name": "stdout",
          "text": [
            "nested_tuple: ((1, 2), (3, 4), (5, 6))\n",
            "First pair: (1, 2)\n"
          ]
        }
      ],
      "source": [
        "nested_tuple = ((1, 2), (3, 4), (5, 6))\n",
        "print(\"nested_tuple:\", nested_tuple)\n",
        "print(\"First pair:\", nested_tuple[0])"
      ]
    },
    {
      "cell_type": "code",
      "source": [
        "len(nested_tuple)"
      ],
      "metadata": {
        "colab": {
          "base_uri": "https://localhost:8080/"
        },
        "id": "aeP9VE2swC0e",
        "outputId": "297d1c5f-bafe-405e-cdb7-64119e83edd3"
      },
      "id": "aeP9VE2swC0e",
      "execution_count": null,
      "outputs": [
        {
          "output_type": "execute_result",
          "data": {
            "text/plain": [
              "3"
            ]
          },
          "metadata": {},
          "execution_count": 11
        }
      ]
    },
    {
      "cell_type": "code",
      "source": [
        "len(nested_tuple[0])"
      ],
      "metadata": {
        "colab": {
          "base_uri": "https://localhost:8080/"
        },
        "id": "cNHXZg17wOgb",
        "outputId": "015b2bd6-f30e-492b-c23a-eec4a51358cd"
      },
      "id": "cNHXZg17wOgb",
      "execution_count": null,
      "outputs": [
        {
          "output_type": "execute_result",
          "data": {
            "text/plain": [
              "2"
            ]
          },
          "metadata": {},
          "execution_count": 12
        }
      ]
    },
    {
      "cell_type": "markdown",
      "id": "a5587711",
      "metadata": {
        "id": "a5587711"
      },
      "source": [
        "### Why use Tuple?\n",
        "- Tuples are faster than lists.\n",
        "- Useful as keys in dictionaries.\n",
        "- Used when data should not change (e.g., coordinates, RGB colors)."
      ]
    },
    {
      "cell_type": "code",
      "source": [
        "var = 1, 2, 3"
      ],
      "metadata": {
        "id": "1PoCMAxZw8j5"
      },
      "id": "1PoCMAxZw8j5",
      "execution_count": null,
      "outputs": []
    },
    {
      "cell_type": "markdown",
      "id": "d65ec451",
      "metadata": {
        "id": "d65ec451"
      },
      "source": [
        "## Exercises"
      ]
    },
    {
      "cell_type": "markdown",
      "id": "b37c6f53",
      "metadata": {
        "id": "b37c6f53"
      },
      "source": [
        "### 1️⃣ Create a tuple with 5 numbers"
      ]
    },
    {
      "cell_type": "code",
      "execution_count": null,
      "id": "1c30f2b7",
      "metadata": {
        "id": "1c30f2b7"
      },
      "outputs": [],
      "source": [
        "# Your code here\n",
        "my_tuple = (1,2,3,4,5)"
      ]
    },
    {
      "cell_type": "markdown",
      "id": "9e225cc8",
      "metadata": {
        "id": "9e225cc8"
      },
      "source": [
        "### 2️⃣ Print the second and fourth elements of the tuple"
      ]
    },
    {
      "cell_type": "code",
      "execution_count": null,
      "id": "986da2fd",
      "metadata": {
        "id": "986da2fd",
        "colab": {
          "base_uri": "https://localhost:8080/"
        },
        "outputId": "50e1141e-b94b-4210-8c0d-d85881122fff"
      },
      "outputs": [
        {
          "output_type": "stream",
          "name": "stdout",
          "text": [
            "2 4\n"
          ]
        }
      ],
      "source": [
        "# Your code here\n",
        "#print(my_tuple[1,2])\n",
        "print(my_tuple[1],my_tuple[3])"
      ]
    },
    {
      "cell_type": "markdown",
      "id": "1c1d7241",
      "metadata": {
        "id": "1c1d7241"
      },
      "source": [
        "### 3️⃣ Create a tuple with different data types (number, string, boolean)"
      ]
    },
    {
      "cell_type": "code",
      "execution_count": null,
      "id": "1ce5432e",
      "metadata": {
        "id": "1ce5432e"
      },
      "outputs": [],
      "source": [
        "# Your code here\n",
        "my_tuple_MIXED =(1,\"potato\", True)"
      ]
    },
    {
      "cell_type": "markdown",
      "id": "db6692c6",
      "metadata": {
        "id": "db6692c6"
      },
      "source": [
        "### 4️⃣ Unpack a tuple into three variables"
      ]
    },
    {
      "cell_type": "code",
      "execution_count": null,
      "id": "fddb052c",
      "metadata": {
        "id": "fddb052c"
      },
      "outputs": [],
      "source": [
        "# Your code here\n",
        "a,b,c = my_tuple_MIXED"
      ]
    },
    {
      "cell_type": "markdown",
      "id": "5842083c",
      "metadata": {
        "id": "5842083c"
      },
      "source": [
        "### 5️⃣ Find the length of a tuple"
      ]
    },
    {
      "cell_type": "code",
      "execution_count": null,
      "id": "e21c5790",
      "metadata": {
        "id": "e21c5790"
      },
      "outputs": [],
      "source": [
        "# Your code here\n",
        "len(my_tuple_MIXED)"
      ]
    },
    {
      "cell_type": "markdown",
      "id": "a7e75a18",
      "metadata": {
        "id": "a7e75a18"
      },
      "source": [
        "### 6️⃣ Slice a tuple to get the middle three elements"
      ]
    },
    {
      "cell_type": "code",
      "execution_count": null,
      "id": "202d58f6",
      "metadata": {
        "id": "202d58f6",
        "colab": {
          "base_uri": "https://localhost:8080/"
        },
        "outputId": "d88e18ac-8f5d-4905-aa36-292745685ec6"
      },
      "outputs": [
        {
          "output_type": "execute_result",
          "data": {
            "text/plain": [
              "('grapes', 'orange', 5)"
            ]
          },
          "metadata": {},
          "execution_count": 10
        }
      ],
      "source": [
        "# Your code here\n",
        "my_tuple_longer =(1,2,'apple','grapes','orange',5,6,6.7)\n",
        "my_tuple_longer[3:6]"
      ]
    },
    {
      "cell_type": "markdown",
      "id": "20041767",
      "metadata": {
        "id": "20041767"
      },
      "source": [
        "### 7️⃣ Create a nested tuple and access its second inner tuple"
      ]
    },
    {
      "cell_type": "code",
      "execution_count": null,
      "id": "ed8a4975",
      "metadata": {
        "id": "ed8a4975",
        "colab": {
          "base_uri": "https://localhost:8080/"
        },
        "outputId": "6cc351f5-decd-4752-f7d8-c638f98bd035"
      },
      "outputs": [
        {
          "output_type": "stream",
          "name": "stdout",
          "text": [
            "('a', 'b', 'c')\n"
          ]
        }
      ],
      "source": [
        "# Your code here\n",
        "my_tuple_nested =((1,2),('a','b','c'),('star wars','battlestar galactica','star trek'))\n",
        "print(my_tuple_nested[1])"
      ]
    },
    {
      "cell_type": "markdown",
      "id": "5d3e55cb",
      "metadata": {
        "id": "5d3e55cb"
      },
      "source": [
        "### 8️⃣ Try to modify an element in the tuple — what happens?"
      ]
    },
    {
      "cell_type": "code",
      "execution_count": null,
      "id": "0ca9f889",
      "metadata": {
        "id": "0ca9f889",
        "colab": {
          "base_uri": "https://localhost:8080/",
          "height": 180
        },
        "outputId": "43cc12b3-99e0-4701-f915-96bdce2af812"
      },
      "outputs": [
        {
          "output_type": "error",
          "ename": "AttributeError",
          "evalue": "'tuple' object has no attribute 'update'",
          "traceback": [
            "\u001b[0;31m---------------------------------------------------------------------------\u001b[0m",
            "\u001b[0;31mAttributeError\u001b[0m                            Traceback (most recent call last)",
            "\u001b[0;32m/tmp/ipython-input-15-1166068919.py\u001b[0m in \u001b[0;36m<cell line: 0>\u001b[0;34m()\u001b[0m\n\u001b[1;32m      1\u001b[0m \u001b[0;31m# Your code here\u001b[0m\u001b[0;34m\u001b[0m\u001b[0;34m\u001b[0m\u001b[0m\n\u001b[1;32m      2\u001b[0m \u001b[0mmy_tuple_trymodify\u001b[0m \u001b[0;34m=\u001b[0m \u001b[0;34m(\u001b[0m\u001b[0;36m1\u001b[0m\u001b[0;34m,\u001b[0m\u001b[0;36m2\u001b[0m\u001b[0;34m,\u001b[0m\u001b[0;36m3\u001b[0m\u001b[0;34m,\u001b[0m\u001b[0;36m4\u001b[0m\u001b[0;34m,\u001b[0m\u001b[0;36m5\u001b[0m\u001b[0;34m,\u001b[0m\u001b[0;36m6\u001b[0m\u001b[0;34m)\u001b[0m\u001b[0;34m\u001b[0m\u001b[0;34m\u001b[0m\u001b[0m\n\u001b[0;32m----> 3\u001b[0;31m \u001b[0mmy_tuple_trymodify\u001b[0m\u001b[0;34m.\u001b[0m\u001b[0mupdate\u001b[0m\u001b[0;34m\u001b[0m\u001b[0;34m\u001b[0m\u001b[0m\n\u001b[0m",
            "\u001b[0;31mAttributeError\u001b[0m: 'tuple' object has no attribute 'update'"
          ]
        }
      ],
      "source": [
        "# Your code here\n",
        "my_tuple_trymodify = (1,2,3,4,5,6)\n",
        "#my_tuple_trymodify.update\n",
        "#tuples are immutable and can't be modified\n"
      ]
    },
    {
      "cell_type": "markdown",
      "id": "e236bd6e",
      "metadata": {
        "id": "e236bd6e"
      },
      "source": [
        "### 9️⃣ Check if a value exists in the tuple"
      ]
    },
    {
      "cell_type": "code",
      "execution_count": null,
      "id": "ae82c7a8",
      "metadata": {
        "id": "ae82c7a8",
        "colab": {
          "base_uri": "https://localhost:8080/"
        },
        "outputId": "b3feb87c-8b6e-4616-ffb7-f21f90ec7f94"
      },
      "outputs": [
        {
          "output_type": "stream",
          "name": "stdout",
          "text": [
            "False\n"
          ]
        }
      ],
      "source": [
        "# Your code here\n",
        "my_tuple_valueexists = (1,2,3,4,5,6)\n",
        "print(8 in my_tuple_valueexists)\n",
        "#print(my_tuple_valueexists.index(7))\n",
        "#\n"
      ]
    },
    {
      "cell_type": "markdown",
      "id": "8d2bc628",
      "metadata": {
        "id": "8d2bc628"
      },
      "source": [
        "### 🔟 Convert a list to a tuple and print it"
      ]
    },
    {
      "cell_type": "code",
      "execution_count": null,
      "id": "bb2dff4f",
      "metadata": {
        "id": "bb2dff4f",
        "colab": {
          "base_uri": "https://localhost:8080/"
        },
        "outputId": "60c8f6c0-56d1-4ba4-82c0-737663a2e16b"
      },
      "outputs": [
        {
          "output_type": "stream",
          "name": "stdout",
          "text": [
            "(1, 2, 3, 4, 5, 6)\n"
          ]
        }
      ],
      "source": [
        "# Your code here\n",
        "\n",
        "my_tuple_convert2list = [1,2,3,4,5,6]\n",
        "my_tuple_convert2list = tuple(my_tuple_convert2list)\n",
        "print(my_tuple_convert2list)"
      ]
    }
  ],
  "metadata": {
    "language_info": {
      "name": "python"
    },
    "colab": {
      "provenance": [],
      "include_colab_link": true
    },
    "kernelspec": {
      "name": "python3",
      "display_name": "Python 3"
    }
  },
  "nbformat": 4,
  "nbformat_minor": 5
}